{
 "cells": [
  {
   "cell_type": "markdown",
   "metadata": {},
   "source": [
    "# Logistic Regression with Python\n"
   ]
  },
  {
   "cell_type": "code",
   "execution_count": 144,
   "metadata": {},
   "outputs": [],
   "source": [
    "import pandas as pd\n",
    "import numpy as np\n",
    "import matplotlib.pyplot as plt\n",
    "import seaborn as sns\n",
    "import cufflinks as cf\n",
    "%matplotlib inline\n"
   ]
  },
  {
   "cell_type": "code",
   "execution_count": 145,
   "metadata": {},
   "outputs": [
    {
     "data": {
      "text/html": [
       "        <script type=\"text/javascript\">\n",
       "        window.PlotlyConfig = {MathJaxConfig: 'local'};\n",
       "        if (window.MathJax) {MathJax.Hub.Config({SVG: {font: \"STIX-Web\"}});}\n",
       "        if (typeof require !== 'undefined') {\n",
       "        require.undef(\"plotly\");\n",
       "        requirejs.config({\n",
       "            paths: {\n",
       "                'plotly': ['https://cdn.plot.ly/plotly-latest.min']\n",
       "            }\n",
       "        });\n",
       "        require(['plotly'], function(Plotly) {\n",
       "            window._Plotly = Plotly;\n",
       "        });\n",
       "        }\n",
       "        </script>\n",
       "        "
      ]
     },
     "metadata": {},
     "output_type": "display_data"
    }
   ],
   "source": [
    "# For offline use\n",
    "cf.go_offline()"
   ]
  },
  {
   "cell_type": "markdown",
   "metadata": {},
   "source": [
    "# Let's start by reading in the titanic_train.csv file into a pandas dataframe."
   ]
  },
  {
   "cell_type": "code",
   "execution_count": 146,
   "metadata": {},
   "outputs": [],
   "source": [
    "train=pd.read_csv('titanic_train.csv')"
   ]
  },
  {
   "cell_type": "code",
   "execution_count": 147,
   "metadata": {},
   "outputs": [
    {
     "data": {
      "text/html": [
       "<div>\n",
       "<style scoped>\n",
       "    .dataframe tbody tr th:only-of-type {\n",
       "        vertical-align: middle;\n",
       "    }\n",
       "\n",
       "    .dataframe tbody tr th {\n",
       "        vertical-align: top;\n",
       "    }\n",
       "\n",
       "    .dataframe thead th {\n",
       "        text-align: right;\n",
       "    }\n",
       "</style>\n",
       "<table border=\"1\" class=\"dataframe\">\n",
       "  <thead>\n",
       "    <tr style=\"text-align: right;\">\n",
       "      <th></th>\n",
       "      <th>PassengerId</th>\n",
       "      <th>Survived</th>\n",
       "      <th>Pclass</th>\n",
       "      <th>Name</th>\n",
       "      <th>Sex</th>\n",
       "      <th>Age</th>\n",
       "      <th>SibSp</th>\n",
       "      <th>Parch</th>\n",
       "      <th>Ticket</th>\n",
       "      <th>Fare</th>\n",
       "      <th>Cabin</th>\n",
       "      <th>Embarked</th>\n",
       "    </tr>\n",
       "  </thead>\n",
       "  <tbody>\n",
       "    <tr>\n",
       "      <th>0</th>\n",
       "      <td>1</td>\n",
       "      <td>0</td>\n",
       "      <td>3</td>\n",
       "      <td>Braund, Mr. Owen Harris</td>\n",
       "      <td>male</td>\n",
       "      <td>22.0</td>\n",
       "      <td>1</td>\n",
       "      <td>0</td>\n",
       "      <td>A/5 21171</td>\n",
       "      <td>7.2500</td>\n",
       "      <td>NaN</td>\n",
       "      <td>S</td>\n",
       "    </tr>\n",
       "    <tr>\n",
       "      <th>1</th>\n",
       "      <td>2</td>\n",
       "      <td>1</td>\n",
       "      <td>1</td>\n",
       "      <td>Cumings, Mrs. John Bradley (Florence Briggs Th...</td>\n",
       "      <td>female</td>\n",
       "      <td>38.0</td>\n",
       "      <td>1</td>\n",
       "      <td>0</td>\n",
       "      <td>PC 17599</td>\n",
       "      <td>71.2833</td>\n",
       "      <td>C85</td>\n",
       "      <td>C</td>\n",
       "    </tr>\n",
       "    <tr>\n",
       "      <th>2</th>\n",
       "      <td>3</td>\n",
       "      <td>1</td>\n",
       "      <td>3</td>\n",
       "      <td>Heikkinen, Miss. Laina</td>\n",
       "      <td>female</td>\n",
       "      <td>26.0</td>\n",
       "      <td>0</td>\n",
       "      <td>0</td>\n",
       "      <td>STON/O2. 3101282</td>\n",
       "      <td>7.9250</td>\n",
       "      <td>NaN</td>\n",
       "      <td>S</td>\n",
       "    </tr>\n",
       "    <tr>\n",
       "      <th>3</th>\n",
       "      <td>4</td>\n",
       "      <td>1</td>\n",
       "      <td>1</td>\n",
       "      <td>Futrelle, Mrs. Jacques Heath (Lily May Peel)</td>\n",
       "      <td>female</td>\n",
       "      <td>35.0</td>\n",
       "      <td>1</td>\n",
       "      <td>0</td>\n",
       "      <td>113803</td>\n",
       "      <td>53.1000</td>\n",
       "      <td>C123</td>\n",
       "      <td>S</td>\n",
       "    </tr>\n",
       "    <tr>\n",
       "      <th>4</th>\n",
       "      <td>5</td>\n",
       "      <td>0</td>\n",
       "      <td>3</td>\n",
       "      <td>Allen, Mr. William Henry</td>\n",
       "      <td>male</td>\n",
       "      <td>35.0</td>\n",
       "      <td>0</td>\n",
       "      <td>0</td>\n",
       "      <td>373450</td>\n",
       "      <td>8.0500</td>\n",
       "      <td>NaN</td>\n",
       "      <td>S</td>\n",
       "    </tr>\n",
       "  </tbody>\n",
       "</table>\n",
       "</div>"
      ],
      "text/plain": [
       "   PassengerId  Survived  Pclass  \\\n",
       "0            1         0       3   \n",
       "1            2         1       1   \n",
       "2            3         1       3   \n",
       "3            4         1       1   \n",
       "4            5         0       3   \n",
       "\n",
       "                                                Name     Sex   Age  SibSp  \\\n",
       "0                            Braund, Mr. Owen Harris    male  22.0      1   \n",
       "1  Cumings, Mrs. John Bradley (Florence Briggs Th...  female  38.0      1   \n",
       "2                             Heikkinen, Miss. Laina  female  26.0      0   \n",
       "3       Futrelle, Mrs. Jacques Heath (Lily May Peel)  female  35.0      1   \n",
       "4                           Allen, Mr. William Henry    male  35.0      0   \n",
       "\n",
       "   Parch            Ticket     Fare Cabin Embarked  \n",
       "0      0         A/5 21171   7.2500   NaN        S  \n",
       "1      0          PC 17599  71.2833   C85        C  \n",
       "2      0  STON/O2. 3101282   7.9250   NaN        S  \n",
       "3      0            113803  53.1000  C123        S  \n",
       "4      0            373450   8.0500   NaN        S  "
      ]
     },
     "execution_count": 147,
     "metadata": {},
     "output_type": "execute_result"
    }
   ],
   "source": [
    "\n",
    "\n",
    "train.head(5)"
   ]
  },
  {
   "cell_type": "code",
   "execution_count": 148,
   "metadata": {},
   "outputs": [
    {
     "data": {
      "text/html": [
       "<div>\n",
       "<style scoped>\n",
       "    .dataframe tbody tr th:only-of-type {\n",
       "        vertical-align: middle;\n",
       "    }\n",
       "\n",
       "    .dataframe tbody tr th {\n",
       "        vertical-align: top;\n",
       "    }\n",
       "\n",
       "    .dataframe thead th {\n",
       "        text-align: right;\n",
       "    }\n",
       "</style>\n",
       "<table border=\"1\" class=\"dataframe\">\n",
       "  <thead>\n",
       "    <tr style=\"text-align: right;\">\n",
       "      <th></th>\n",
       "      <th>PassengerId</th>\n",
       "      <th>Survived</th>\n",
       "      <th>Pclass</th>\n",
       "      <th>Name</th>\n",
       "      <th>Sex</th>\n",
       "      <th>Age</th>\n",
       "      <th>SibSp</th>\n",
       "      <th>Parch</th>\n",
       "      <th>Ticket</th>\n",
       "      <th>Fare</th>\n",
       "      <th>Cabin</th>\n",
       "      <th>Embarked</th>\n",
       "    </tr>\n",
       "  </thead>\n",
       "  <tbody>\n",
       "    <tr>\n",
       "      <th>0</th>\n",
       "      <td>False</td>\n",
       "      <td>False</td>\n",
       "      <td>False</td>\n",
       "      <td>False</td>\n",
       "      <td>False</td>\n",
       "      <td>False</td>\n",
       "      <td>False</td>\n",
       "      <td>False</td>\n",
       "      <td>False</td>\n",
       "      <td>False</td>\n",
       "      <td>True</td>\n",
       "      <td>False</td>\n",
       "    </tr>\n",
       "    <tr>\n",
       "      <th>1</th>\n",
       "      <td>False</td>\n",
       "      <td>False</td>\n",
       "      <td>False</td>\n",
       "      <td>False</td>\n",
       "      <td>False</td>\n",
       "      <td>False</td>\n",
       "      <td>False</td>\n",
       "      <td>False</td>\n",
       "      <td>False</td>\n",
       "      <td>False</td>\n",
       "      <td>False</td>\n",
       "      <td>False</td>\n",
       "    </tr>\n",
       "    <tr>\n",
       "      <th>2</th>\n",
       "      <td>False</td>\n",
       "      <td>False</td>\n",
       "      <td>False</td>\n",
       "      <td>False</td>\n",
       "      <td>False</td>\n",
       "      <td>False</td>\n",
       "      <td>False</td>\n",
       "      <td>False</td>\n",
       "      <td>False</td>\n",
       "      <td>False</td>\n",
       "      <td>True</td>\n",
       "      <td>False</td>\n",
       "    </tr>\n",
       "    <tr>\n",
       "      <th>3</th>\n",
       "      <td>False</td>\n",
       "      <td>False</td>\n",
       "      <td>False</td>\n",
       "      <td>False</td>\n",
       "      <td>False</td>\n",
       "      <td>False</td>\n",
       "      <td>False</td>\n",
       "      <td>False</td>\n",
       "      <td>False</td>\n",
       "      <td>False</td>\n",
       "      <td>False</td>\n",
       "      <td>False</td>\n",
       "    </tr>\n",
       "    <tr>\n",
       "      <th>4</th>\n",
       "      <td>False</td>\n",
       "      <td>False</td>\n",
       "      <td>False</td>\n",
       "      <td>False</td>\n",
       "      <td>False</td>\n",
       "      <td>False</td>\n",
       "      <td>False</td>\n",
       "      <td>False</td>\n",
       "      <td>False</td>\n",
       "      <td>False</td>\n",
       "      <td>True</td>\n",
       "      <td>False</td>\n",
       "    </tr>\n",
       "  </tbody>\n",
       "</table>\n",
       "</div>"
      ],
      "text/plain": [
       "   PassengerId  Survived  Pclass   Name    Sex    Age  SibSp  Parch  Ticket  \\\n",
       "0        False     False   False  False  False  False  False  False   False   \n",
       "1        False     False   False  False  False  False  False  False   False   \n",
       "2        False     False   False  False  False  False  False  False   False   \n",
       "3        False     False   False  False  False  False  False  False   False   \n",
       "4        False     False   False  False  False  False  False  False   False   \n",
       "\n",
       "    Fare  Cabin  Embarked  \n",
       "0  False   True     False  \n",
       "1  False  False     False  \n",
       "2  False   True     False  \n",
       "3  False  False     False  \n",
       "4  False   True     False  "
      ]
     },
     "execution_count": 148,
     "metadata": {},
     "output_type": "execute_result"
    }
   ],
   "source": [
    "\n",
    "train.isnull().head(5)"
   ]
  },
  {
   "cell_type": "markdown",
   "metadata": {},
   "source": [
    "In the columns where True is mentioned it means that we have missing values there.\n"
   ]
  },
  {
   "cell_type": "code",
   "execution_count": 149,
   "metadata": {},
   "outputs": [
    {
     "data": {
      "text/plain": [
       "<matplotlib.axes._subplots.AxesSubplot at 0x263d48a15c0>"
      ]
     },
     "execution_count": 149,
     "metadata": {},
     "output_type": "execute_result"
    },
    {
     "data": {
      "image/png": "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\n",
      "text/plain": [
       "<Figure size 432x288 with 1 Axes>"
      ]
     },
     "metadata": {
      "needs_background": "light"
     },
     "output_type": "display_data"
    }
   ],
   "source": [
    "\n",
    "sns.heatmap(train.isnull(),yticklabels=False,cbar=False,cmap='viridis')"
   ]
  },
  {
   "cell_type": "markdown",
   "metadata": {},
   "source": [
    "The color bar shows missing values and the missing values are age and cabin\n"
   ]
  },
  {
   "cell_type": "markdown",
   "metadata": {},
   "source": [
    "# Now we gonna do some sort of Data analysis "
   ]
  },
  {
   "cell_type": "code",
   "execution_count": 150,
   "metadata": {},
   "outputs": [],
   "source": [
    "sns.set_style('whitegrid')"
   ]
  },
  {
   "cell_type": "code",
   "execution_count": 151,
   "metadata": {
    "scrolled": true
   },
   "outputs": [
    {
     "data": {
      "text/plain": [
       "<matplotlib.axes._subplots.AxesSubplot at 0x263d4602358>"
      ]
     },
     "execution_count": 151,
     "metadata": {},
     "output_type": "execute_result"
    },
    {
     "data": {
      "image/png": "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\n",
      "text/plain": [
       "<Figure size 432x288 with 1 Axes>"
      ]
     },
     "metadata": {},
     "output_type": "display_data"
    }
   ],
   "source": [
    "sns.countplot(x='Survived',data=train)"
   ]
  },
  {
   "cell_type": "code",
   "execution_count": 152,
   "metadata": {},
   "outputs": [
    {
     "data": {
      "text/plain": [
       "<matplotlib.axes._subplots.AxesSubplot at 0x263d4669080>"
      ]
     },
     "execution_count": 152,
     "metadata": {},
     "output_type": "execute_result"
    },
    {
     "data": {
      "image/png": "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\n",
      "text/plain": [
       "<Figure size 432x288 with 1 Axes>"
      ]
     },
     "metadata": {},
     "output_type": "display_data"
    }
   ],
   "source": [
    "sns.countplot(x='Survived',hue='Sex',data=train,palette='RdBu_r')\n"
   ]
  },
  {
   "cell_type": "markdown",
   "metadata": {},
   "source": [
    "mostly women are in survival group and mostly men are not in survival group"
   ]
  },
  {
   "cell_type": "markdown",
   "metadata": {},
   "source": [
    "1 means who survived and 0 mean who doesn't survived"
   ]
  },
  {
   "cell_type": "code",
   "execution_count": 153,
   "metadata": {},
   "outputs": [
    {
     "data": {
      "text/plain": [
       "<matplotlib.axes._subplots.AxesSubplot at 0x263d46d8b70>"
      ]
     },
     "execution_count": 153,
     "metadata": {},
     "output_type": "execute_result"
    },
    {
     "data": {
      "image/png": "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\n",
      "text/plain": [
       "<Figure size 432x288 with 1 Axes>"
      ]
     },
     "metadata": {},
     "output_type": "display_data"
    }
   ],
   "source": [
    "sns.countplot(x='Survived',hue='Pclass',data=train)\n"
   ]
  },
  {
   "cell_type": "markdown",
   "metadata": {},
   "source": [
    "Mostly poeple who  didnt survived are part of the 3rd Pclass and mostly people are who did survived are part of the 1st plcass"
   ]
  },
  {
   "cell_type": "code",
   "execution_count": 154,
   "metadata": {},
   "outputs": [
    {
     "data": {
      "text/plain": [
       "<matplotlib.axes._subplots.AxesSubplot at 0x263d46514a8>"
      ]
     },
     "execution_count": 154,
     "metadata": {},
     "output_type": "execute_result"
    },
    {
     "data": {
      "image/png": "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\n",
      "text/plain": [
       "<Figure size 432x288 with 1 Axes>"
      ]
     },
     "metadata": {},
     "output_type": "display_data"
    }
   ],
   "source": [
    "sns.distplot(train['Age'].dropna(),kde=False,bins=30)"
   ]
  },
  {
   "cell_type": "markdown",
   "metadata": {},
   "source": [
    "Pandas own visualization "
   ]
  },
  {
   "cell_type": "code",
   "execution_count": 155,
   "metadata": {},
   "outputs": [
    {
     "data": {
      "text/plain": [
       "<matplotlib.axes._subplots.AxesSubplot at 0x263d5a83c18>"
      ]
     },
     "execution_count": 155,
     "metadata": {},
     "output_type": "execute_result"
    },
    {
     "data": {
      "image/png": "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\n",
      "text/plain": [
       "<Figure size 432x288 with 1 Axes>"
      ]
     },
     "metadata": {},
     "output_type": "display_data"
    }
   ],
   "source": [
    "\n",
    "train['Age'].plot.hist(bins=30)"
   ]
  },
  {
   "cell_type": "markdown",
   "metadata": {},
   "source": [
    "Now we gonna explore some other coloumns "
   ]
  },
  {
   "cell_type": "code",
   "execution_count": 156,
   "metadata": {},
   "outputs": [
    {
     "name": "stdout",
     "output_type": "stream",
     "text": [
      "<class 'pandas.core.frame.DataFrame'>\n",
      "RangeIndex: 891 entries, 0 to 890\n",
      "Data columns (total 12 columns):\n",
      "PassengerId    891 non-null int64\n",
      "Survived       891 non-null int64\n",
      "Pclass         891 non-null int64\n",
      "Name           891 non-null object\n",
      "Sex            891 non-null object\n",
      "Age            714 non-null float64\n",
      "SibSp          891 non-null int64\n",
      "Parch          891 non-null int64\n",
      "Ticket         891 non-null object\n",
      "Fare           891 non-null float64\n",
      "Cabin          204 non-null object\n",
      "Embarked       889 non-null object\n",
      "dtypes: float64(2), int64(5), object(5)\n",
      "memory usage: 83.6+ KB\n"
     ]
    }
   ],
   "source": [
    "train.info()"
   ]
  },
  {
   "cell_type": "code",
   "execution_count": 157,
   "metadata": {
    "scrolled": true
   },
   "outputs": [
    {
     "data": {
      "text/plain": [
       "<matplotlib.axes._subplots.AxesSubplot at 0x263d5aeb940>"
      ]
     },
     "execution_count": 157,
     "metadata": {},
     "output_type": "execute_result"
    },
    {
     "data": {
      "image/png": "iVBORw0KGgoAAAANSUhEUgAAAYUAAAEICAYAAACwDehOAAAABHNCSVQICAgIfAhkiAAAAAlwSFlzAAALEgAACxIB0t1+/AAAADl0RVh0U29mdHdhcmUAbWF0cGxvdGxpYiB2ZXJzaW9uIDMuMC4yLCBodHRwOi8vbWF0cGxvdGxpYi5vcmcvOIA7rQAAF4ZJREFUeJzt3X1QVPfd9/HPAcKqPIQS4x9EccCHKU5jHUPU9EJN7qZiO5OYTFFAbzTVJpmMmpKpT5C4oDUCw4RxoqM26bRprI+oTbzbaZ34SMUUM7ZopRtNbWJU0FEhE3ZjF9g91x9e+d0XRmExLAfM+/UXezi7fk80+95zds9Zy7ZtWwAASIpwegAAQO9BFAAABlEAABhEAQBgEAUAgEEUAAAGUQAAGEQBAGAQBQCAEeX0AF1VW1srl8vl9BgA0Kf4/X6NGTOm0/X6XBRcLpfS0tKcHgMA+hSPxxPSehw+AgAYRAEAYBAFAIBBFAAABlEAABhEAQBgEAUAgEEUAABG2E5e++Uvf6kDBw6otbVVubm5GjdunJYtWybLsjRixAgVFRUpIiJC69at06FDhxQVFaXCwkKNHj06XCMBADoRlj2Fmpoa/f3vf9fWrVu1adMmXbp0SSUlJcrPz9eWLVtk27b279+vuro6HTt2TJWVlaqoqNCKFSvu6M/ztwa6eQu6R2+dCwBuJyx7CkeOHNHIkSM1f/58eb1eLVmyRDt27NC4ceMkSZMmTVJ1dbVSUlKUkZEhy7KUlJSkQCCgxsZGJSYmdunPc90TqYcWvx2OTflajpfPdnoEAOiSsEShqalJ9fX12rhxoy5cuKAXXnhBtm3LsixJUkxMjJqbm+X1epWQkGDu9+XyjqLg9/u/cg2P3nwtpFCvNwIAvUFYopCQkKDU1FRFR0crNTVVLpdLly5dMr/3+XyKj49XbGysfD5fu+VxcXEdPnZfuyBeX5oVwN3L0QviPfTQQ/rLX/4i27Z1+fJlXb9+XY888ohqamokSVVVVUpPT9fYsWN15MgRBYNB1dfXKxgMdvnQEQCg+4RlT+Gxxx7TBx98oKysLNm2LbfbrcGDB2v58uWqqKhQamqqMjMzFRkZqfT0dGVnZysYDMrtdodjHABAiCzbtm2nh+gKj8dzy0MyvNEMALd3u+fOm3HyGgDAIAoAAIMoAAAMogAAMIgCAMAgCgAAgygAAAyiAAAwiAIAwCAKAACDKAAADKIAADCIAgDAIAoAAIMoAAAMogAAMIgCAMAgCgAAgygAAAyiAAAwiAIAwCAKAACDKAAADKIAADCIAgDAIAoAACMqXA/81FNPKS4uTpI0ePBgZWdn69VXX1VkZKQyMjK0YMECBYNBFRcX6/Tp04qOjtaqVas0dOjQcI0EAOhEWKLg9/slSZs2bTLLpk2bprVr12rIkCF67rnnVFdXp4sXL6qlpUXbt29XbW2tSktLtWHDhnCMBAAIQVii8OGHH+r69euaO3eu2tratHDhQrW0tCg5OVmSlJGRoffff19XrlzRxIkTJUljxozRqVOnwjEOACBEYYlCv379NG/ePE2fPl2ffPKJnn32WcXHx5vfx8TE6Pz58/J6vYqNjTXLIyMj1dbWpqio24/l9/vl8XjaLUtLS+v+jegmN88KAL1ZWKKQkpKioUOHyrIspaSkKC4uTp999pn5vc/nU3x8vP7zn//I5/OZ5cFgsMMgSJLL5erVEbhZX5oVwN0r1BeoYfn00c6dO1VaWipJunz5sq5fv64BAwbo008/lW3bOnLkiNLT0zV27FhVVVVJkmprazVy5MhwjAMACFFY9hSysrJUUFCg3NxcWZal1atXKyIiQosWLVIgEFBGRoa++93v6sEHH1R1dbVycnJk27ZWr14djnEAACEKSxSio6P12muvfWX5jh072t2OiIjQypUrwzECAOAOcPIaAMAgCgAAgygAAAyiAAAwiAIAwCAKAACDKAAADKIAADCIAgDAIAoAAIMoAAAMogAAMIgCAMAgCgAAgygAAAyiAAAwiAIAwCAKAACDKAAADKIAADCIAgDAIAoAAIMoAAAMogAAMIgCAMAgCgAAI2xRuHbtmiZPnqyzZ8/q3Llzys3N1cyZM1VUVKRgMChJWrdunbKyspSTk6OTJ0+GaxQAQIjCEoXW1la53W7169dPklRSUqL8/Hxt2bJFtm1r//79qqur07Fjx1RZWamKigqtWLEiHKMAALogLFEoKytTTk6OBg0aJEmqq6vTuHHjJEmTJk3S0aNHdfz4cWVkZMiyLCUlJSkQCKixsTEc4wAAQtTtUdi9e7cSExM1ceJEs8y2bVmWJUmKiYlRc3OzvF6vYmNjzTpfLgcAOCequx9w165dsixL77//vjwej5YuXdpuD8Dn8yk+Pl6xsbHy+XztlsfFxXX6+H6/Xx6Pp92ytLS07tuAbnbzrADQm3V7FDZv3mx+zsvLU3FxscrLy1VTU6Px48erqqpKEyZMUHJyssrLyzVv3jxdunRJwWBQiYmJnT6+y+Xq1RG4WV+aFcDdK9QXqN0ehVtZunSpli9froqKCqWmpiozM1ORkZFKT09Xdna2gsGg3G53T4wCAOiAZdu27fQQXeHxeG756vuhxW87ME3HjpfPdnoEAJB0++fOm3HyGgDAIAoAAIMoAAAMogAAMIgCAMAgCgAAgygAAAyiAAAwiAIAwCAKAACDKAAADKIAADCIAgDACCkKlZWV7W6//XbvuyIpAODr6/D7FP7whz/owIEDqqmp0V//+ldJUiAQ0EcffaTZs7ksNADcbTqMwsSJE3X//ffrs88+U3Z2tiQpIiJCQ4YM6ZHhAAA9q8Mo3HvvvRo/frzGjx+va9euye/3S7qxtwAAuPuE9HWcK1as0OHDhzVo0CDZti3LsrRt27ZwzwYA6GEhReHEiRPat2+fIiL4sBIA3M1CepYfOnSoOXQEALh7hbSn0NDQoMcee0xDhw6VJA4fAcBdKqQovPbaa+GeAwDQC4QUhd///vdfWbZgwYJuHwYA4KyQojBw4EBJkm3b+uc//6lgMBjWoQAAzggpCjk5Oe1u//SnPw3LMAAAZ4UUhY8//tj8fOXKFTU0NIRtIACAc0KKgtvtNj+7XC4tWbKkw/UDgYBeeeUVffzxx4qMjFRJSYls29ayZctkWZZGjBihoqIiRUREaN26dTp06JCioqJUWFio0aNHf70tAgDcsZCisGnTJjU1Nen8+fMaPHiwEhMTO1z/4MGDkqRt27appqbGRCE/P1/jx4+X2+3W/v37lZSUpGPHjqmyslINDQ1auHChdu3a9fW3CgBwR0KKwp/+9CetWbNGw4YN00cffaQFCxZo2rRpt13/8ccf16OPPipJqq+v18CBA3Xo0CGNGzdOkjRp0iRVV1crJSVFGRkZsixLSUlJCgQCamxs7DQ6AIDwCCkKb731lnbv3q2YmBh5vV7NmTOnwyhIUlRUlJYuXar33ntPr7/+ug4ePCjLsiRJMTExam5ultfrVUJCgrnPl8uJAgA4I6QoWJalmJgYSVJsbKxcLldID15WVqZFixZpxowZ7S6T4fP5FB8fr9jYWPl8vnbL4+LiOnxMv98vj8fTbllaWlpI8zjh5lkBoDcLKQrJyckqLS1Venq6jh8/ruTk5A7Xf+edd3T58mU9//zz6t+/vyzL0ne+8x3V1NRo/Pjxqqqq0oQJE5ScnKzy8nLNmzdPly5dUjAY7HQvweVy9eoI3KwvzQrg7hXqC9SQojBjxgx98MEHOnr0qP74xz/qV7/6VYfrT5kyRQUFBZo1a5ba2tpUWFioYcOGafny5aqoqFBqaqoyMzMVGRmp9PR0ZWdnKxgMtvuUEwCg51m2bdudrZSVlaXS0lINHz5c58+f17Jly7R58+aemO8rPB7PLV99P7S4931v9PFyvrIUQO9wu+fOm4V06eyoqCgNHz5ckjRkyBC+VwEA7lIhHT5KSkpSRUWFxowZo5MnT2rQoEHhngsA4ICQXvKXlJQoMTFRhw8fVmJiokpKSsI9FwDAASHtKbhcLj3zzDNhHgUA4DTeHAAAGEQBAGAQBQCAQRQAAAZRAAAYRAEAYBAFAIBBFAAABlEAABhEAQBgEAUAgEEUAAAGUQAAGEQBAGAQBQCAQRQAAAZRAAAYRAEAYBAFAIBBFAAABlEAABhEAQBgEAUAgBHV3Q/Y2tqqwsJCXbx4US0tLXrhhRc0fPhwLVu2TJZlacSIESoqKlJERITWrVunQ4cOKSoqSoWFhRo9enR3j9Pr2W1+WVEup8e4pd48G4Dw6PYo7NmzRwkJCSovL1dTU5Oefvppffvb31Z+fr7Gjx8vt9ut/fv3KykpSceOHVNlZaUaGhq0cOFC7dq1q7vH6fWsKJc+Xfmg02PcUrL7H06PAKCHdXsUpk6dqszMTHM7MjJSdXV1GjdunCRp0qRJqq6uVkpKijIyMmRZlpKSkhQIBNTY2KjExMTuHgkAEKJuj0JMTIwkyev16sUXX1R+fr7KyspkWZb5fXNzs7xerxISEtrdr7m5udMo+P1+eTyedsvS0tK6eSu6z82z3qw3zy51Pj+Au0u3R0GSGhoaNH/+fM2cOVNPPPGEysvLze98Pp/i4+MVGxsrn8/XbnlcXFynj+1yuXr9E+n/1pdmvZW+Pj+AG0J9gdftnz66evWq5s6dq8WLFysrK0uSNGrUKNXU1EiSqqqqlJ6errFjx+rIkSMKBoOqr69XMBjk0BEAOKzb9xQ2btyozz//XOvXr9f69eslSS+//LJWrVqliooKpaamKjMzU5GRkUpPT1d2draCwaDcbnd3jwIA6CLLtm3b6SG6wuPx3PKQxkOL33Zgmo4dL58d0np8+ghAuN3uufNmnLwGADCIAgDAIAoAAIMoAAAMogAAMIgCAMAgCgAAgygAAAyiAAAwiAIAwCAKAACDKAAADKIAADCIAgDAIAoAAIMoAAAMogAAMIgCAMAgCgAAgygAAAyiAAAwiAIAwCAKAACDKAAADKIAADCIAgDACFsUTpw4oby8PEnSuXPnlJubq5kzZ6qoqEjBYFCStG7dOmVlZSknJ0cnT54M1ygAgBCFJQpvvvmmXnnlFfn9fklSSUmJ8vPztWXLFtm2rf3796uurk7Hjh1TZWWlKioqtGLFinCMAgDogrBEITk5WWvXrjW36+rqNG7cOEnSpEmTdPToUR0/flwZGRmyLEtJSUkKBAJqbGwMxzgAgBBFheNBMzMzdeHCBXPbtm1ZliVJiomJUXNzs7xerxISEsw6Xy5PTEzs8LH9fr88Hk+7ZWlpad04ffe6edab9ebZpc7nB3B3CUsUbhYR8f93SHw+n+Lj4xUbGyufz9dueVxcXKeP5XK5ev0T6f/Wl2a9lb4+P4AbQn2B1yOfPho1apRqamokSVVVVUpPT9fYsWN15MgRBYNB1dfXKxgMdrqXAAAIrx7ZU1i6dKmWL1+uiooKpaamKjMzU5GRkUpPT1d2draCwaDcbndPjAIA6EDYojB48GDt2LFDkpSSkqLf/e53X1ln4cKFWrhwYbhGAAB0ESevAQAMogAAMIgCAMAgCgAAgygAAAyiAAAwiAIAwCAKAACDKAAADKIAADCIAgDAIAoAAIMoAAAMogAAMIgCAMAgCgAAgygAAAyiAAAwiAIAwCAK+Fr8bX6nR7it3jwb0FtFOT0A+jZXlEv/tfa/nB7jlqoXVjs9AtDnsKcAADCIAgDAIAr4Rgv6e+f7DqHO1dYaCPMkd6a3zoXO8Z4CvtEiXC4dnjTZ6TG+YnLV4ZDWi7onUut+/v/CPE3XLXjtCadHwB1iTwEAYDi+pxAMBlVcXKzTp08rOjpaq1at0tChQ50eCwA6FWwLKCIq0ukxvuLrzOV4FPbt26eWlhZt375dtbW1Ki0t1YYNG5weC0APaGtpUVR0tNNjfEWoc0VERcrz6oEemKhr0l7+P3d8X8ejcPz4cU2cOFGSNGbMGJ06dcrhiQD0lKjoaL36f7OcHuMrXv7dTqdHcIxl27bt5AAvv/yypkyZosmTb7zZ9+ijj2rfvn2Kirp1r2pra+VyuXpyRADo8/x+v8aMGdPpeo7vKcTGxsrn85nbwWDwtkGQFNJGAQDujOOfPho7dqyqqqok3dgLGDlypMMTAcA3l+OHj7789NGZM2dk27ZWr16tYcOGOTkSAHxjOR4FAEDv4fjhIwBA70EUAAAGUdCN9zXcbreys7OVl5enc+fOOT3SHTlx4oTy8vKcHqPLWltbtXjxYs2cOVNZWVnav3+/0yN1SSAQUEFBgXJycjRr1ix9+umnTo/UZdeuXdPkyZN19uxZp0e5I0899ZTy8vKUl5engoICp8cJWWtrq37+858rJydHM2fO7BX//R3/SGpvcDecVf3mm29qz5496t+/v9OjdNmePXuUkJCg8vJyNTU16emnn9b3v/99p8cK2cGDByVJ27ZtU01NjUpKSvrUv5/W1la53W7169fP6VHuiP9/rii7adMmhyfpusOHD6utrU3btm1TdXW11qxZo7Vr1zo6E3sKujvOqk5OTnb8H9Odmjp1qn72s5+Z25GRve9aMh15/PHH9Ytf/EKSVF9fr4EDBzo8UdeUlZUpJydHgwYNcnqUO/Lhhx/q+vXrmjt3rmbPnq3a2lqnRwpZSkqKAoGAgsGgvF5vh+do9RTnJ+gFvF6vYmNjze3IyEi1tbX1ir+gUGVmZurChQtOj3FHYmJiJN34e3jxxReVn5/v8ERdFxUVpaVLl+q9997T66+/7vQ4Idu9e7cSExM1ceJEvfHGG06Pc0f69eunefPmafr06frkk0/07LPP6s9//nOf+P93wIABunjxon74wx+qqalJGzdudHok9hSkrp9Vje7X0NCg2bNna9q0aXriib55Lf6ysjLt3btXy5cv1xdffOH0OCHZtWuXjh49qry8PHk8Hi1dulRXrlxxeqwuSUlJ0ZNPPinLspSSkqKEhIQ+sw1vvfWWMjIytHfvXr377rtatmyZORzmFJ75dOOs6oMHD+pHP/oRZ1U74OrVq5o7d67cbrceeeQRp8fpsnfeeUeXL1/W888/r/79+8uyrD5zCGzz5s3m57y8PBUXF+v+++93cKKu27lzp86cOaPi4mJdvnxZXq+3z2xDfHy87rnnHknSvffeq7a2NgUCzn5rHVGQ9IMf/EDV1dXKyckxZ1Wj52zcuFGff/651q9fr/Xr10u68cZ5X3njc8qUKSooKNCsWbPU1tamwsJCLtrYg7KyslRQUKDc3FxZlqXVq1f3mT39Z555RoWFhZo5c6ZaW1v10ksvacCAAY7OxBnNAACD9xQAAAZRAAAYRAEAYBAFAIBBFAAARt/43BbggDfeeENHjx5VRESELMvSSy+9pHfffVc/+clPtGvXLg0cOFC5ubnt7nPy5EmtWbNGtm0rGAxq8uTJmjt3rkNbAHQdUQBu4V//+pcOHDigrVu3yrIsc7bvnj17OrzfypUrVVZWpmHDhqm1tVU5OTmaMGGCRo0a1UOTA18Ph4+AW0hMTFR9fb127typy5cvKy0tTTt37lReXp65vPG+ffs0e/ZszZgxQydPnpQkJSUlafPmzTp16pQiIiK0detWjRo1Srt379b8+fM1Z84cPfnkk9q7d6+TmwfcFlEAbiExMVEbNmzQ3/72N2VnZ2vq1KnmEtlfeuCBB/T222/r1VdfVVFRkSRp9erVuu+++1RcXKzvfe97KisrU0tLiyTpiy++0G9+8xv9+te/Vmlpqdra2np8u4DOcPgIuIVz584pNjZWJSUlkqR//OMfeu6559pdFvvhhx+WJI0YMUJXrlyR3+9XXV2d5s+fr/nz56upqUmFhYXavn27YmJi9PDDDysiIkIDBw5UfHy8Ghsb++zlqnH3Yk8BuIXTp0+ruLjYXLEyJSVFcXFx7S509+Uho9OnTyspKUmWZWnx4sU6c+aMJOlb3/qWHnjgAUVHR0uS6urqJN24AKDX69V9993Xk5sEhIQ9BeAWpkyZorNnz2r69OkaMGCAbNvWkiVL9Nvf/tasc+HCBc2ePVstLS1auXKloqOjtWbNGrndbgUCAVmWpQcffFA//vGPtWfPHl29elVz5sxRc3OzioqK+syVVPHNwgXxgB6we/du/fvf/9aiRYucHgXoEIePAAAGewoAAIM9BQCAQRQAAAZRAAAYRAEAYBAFAIBBFAAAxn8DxCIRytPJ828AAAAASUVORK5CYII=\n",
      "text/plain": [
       "<Figure size 432x288 with 1 Axes>"
      ]
     },
     "metadata": {},
     "output_type": "display_data"
    }
   ],
   "source": [
    "sns.countplot(x='SibSp',data=train)\n",
    "#Mostly poeple they have niether have Siblings nor Spouse. \n",
    "\n"
   ]
  },
  {
   "cell_type": "code",
   "execution_count": 158,
   "metadata": {},
   "outputs": [
    {
     "data": {
      "text/plain": [
       "<matplotlib.axes._subplots.AxesSubplot at 0x263d5b849b0>"
      ]
     },
     "execution_count": 158,
     "metadata": {},
     "output_type": "execute_result"
    },
    {
     "data": {
      "image/png": "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\n",
      "text/plain": [
       "<Figure size 864x288 with 1 Axes>"
      ]
     },
     "metadata": {},
     "output_type": "display_data"
    }
   ],
   "source": [
    "train['Fare'].hist(bins=40,figsize=(12,4))\n"
   ]
  },
  {
   "cell_type": "markdown",
   "metadata": {},
   "source": [
    "Now it looks like most of the purchase prices are between 0 to 50 now it can get higher distribution or higher level of details in this distribution\n",
    "So it makes sense that things are distributed towards the cheaper fare tickets because as you already\n",
    "seen most passengers are actually in the cheaper third class."
   ]
  },
  {
   "cell_type": "markdown",
   "metadata": {},
   "source": [
    "Now we are going to make these plots with cufflinks"
   ]
  },
  {
   "cell_type": "code",
   "execution_count": 159,
   "metadata": {},
   "outputs": [
    {
     "data": {
      "application/vnd.plotly.v1+json": {
       "config": {
        "linkText": "Export to plot.ly",
        "plotlyServerURL": "https://plot.ly",
        "showLink": true
       },
       "data": [
        {
         "histfunc": "count",
         "histnorm": "",
         "marker": {
          "color": "rgba(255, 153, 51, 1.0)",
          "line": {
           "color": "#4D5663",
           "width": 1.3
          }
         },
         "name": "Fare",
         "nbinsx": 50,
         "opacity": 0.8,
         "orientation": "v",
         "type": "histogram",
         "x": [
          7.25,
          71.2833,
          7.925,
          53.1,
          8.05,
          8.4583,
          51.8625,
          21.075,
          11.1333,
          30.0708,
          16.7,
          26.55,
          8.05,
          31.275,
          7.8542,
          16,
          29.125,
          13,
          18,
          7.225,
          26,
          13,
          8.0292,
          35.5,
          21.075,
          31.3875,
          7.225,
          263,
          7.8792,
          7.8958,
          27.7208,
          146.5208,
          7.75,
          10.5,
          82.1708,
          52,
          7.2292,
          8.05,
          18,
          11.2417,
          9.475,
          21,
          7.8958,
          41.5792,
          7.8792,
          8.05,
          15.5,
          7.75,
          21.6792,
          17.8,
          39.6875,
          7.8,
          76.7292,
          26,
          61.9792,
          35.5,
          10.5,
          7.2292,
          27.75,
          46.9,
          7.2292,
          80,
          83.475,
          27.9,
          27.7208,
          15.2458,
          10.5,
          8.1583,
          7.925,
          8.6625,
          10.5,
          46.9,
          73.5,
          14.4542,
          56.4958,
          7.65,
          7.8958,
          8.05,
          29,
          12.475,
          9,
          9.5,
          7.7875,
          47.1,
          10.5,
          15.85,
          34.375,
          8.05,
          263,
          8.05,
          8.05,
          7.8542,
          61.175,
          20.575,
          7.25,
          8.05,
          34.6542,
          63.3583,
          23,
          26,
          7.8958,
          7.8958,
          77.2875,
          8.6542,
          7.925,
          7.8958,
          7.65,
          7.775,
          7.8958,
          24.15,
          52,
          14.4542,
          8.05,
          9.825,
          14.4583,
          7.925,
          7.75,
          21,
          247.5208,
          31.275,
          73.5,
          8.05,
          30.0708,
          13,
          77.2875,
          11.2417,
          7.75,
          7.1417,
          22.3583,
          6.975,
          7.8958,
          7.05,
          14.5,
          26,
          13,
          15.0458,
          26.2833,
          53.1,
          9.2167,
          79.2,
          15.2458,
          7.75,
          15.85,
          6.75,
          11.5,
          36.75,
          7.7958,
          34.375,
          26,
          13,
          12.525,
          66.6,
          8.05,
          14.5,
          7.3125,
          61.3792,
          7.7333,
          8.05,
          8.6625,
          69.55,
          16.1,
          15.75,
          7.775,
          8.6625,
          39.6875,
          20.525,
          55,
          27.9,
          25.925,
          56.4958,
          33.5,
          29.125,
          11.1333,
          7.925,
          30.6958,
          7.8542,
          25.4667,
          28.7125,
          13,
          0,
          69.55,
          15.05,
          31.3875,
          39,
          22.025,
          50,
          15.5,
          26.55,
          15.5,
          7.8958,
          13,
          13,
          7.8542,
          26,
          27.7208,
          146.5208,
          7.75,
          8.4042,
          7.75,
          13,
          9.5,
          69.55,
          6.4958,
          7.225,
          8.05,
          10.4625,
          15.85,
          18.7875,
          7.75,
          31,
          7.05,
          21,
          7.25,
          13,
          7.75,
          113.275,
          7.925,
          27,
          76.2917,
          10.5,
          8.05,
          13,
          8.05,
          7.8958,
          90,
          9.35,
          10.5,
          7.25,
          13,
          25.4667,
          83.475,
          7.775,
          13.5,
          31.3875,
          10.5,
          7.55,
          26,
          26.25,
          10.5,
          12.275,
          14.4542,
          15.5,
          10.5,
          7.125,
          7.225,
          90,
          7.775,
          14.5,
          52.5542,
          26,
          7.25,
          10.4625,
          26.55,
          16.1,
          20.2125,
          15.2458,
          79.2,
          86.5,
          512.3292,
          26,
          7.75,
          31.3875,
          79.65,
          0,
          7.75,
          10.5,
          39.6875,
          7.775,
          153.4625,
          135.6333,
          31,
          0,
          19.5,
          29.7,
          7.75,
          77.9583,
          7.75,
          0,
          29.125,
          20.25,
          7.75,
          7.8542,
          9.5,
          8.05,
          26,
          8.6625,
          9.5,
          7.8958,
          13,
          7.75,
          78.85,
          91.0792,
          12.875,
          8.85,
          7.8958,
          27.7208,
          7.2292,
          151.55,
          30.5,
          247.5208,
          7.75,
          23.25,
          0,
          12.35,
          8.05,
          151.55,
          110.8833,
          108.9,
          24,
          56.9292,
          83.1583,
          262.375,
          26,
          7.8958,
          26.25,
          7.8542,
          26,
          14,
          164.8667,
          134.5,
          7.25,
          7.8958,
          12.35,
          29,
          69.55,
          135.6333,
          6.2375,
          13,
          20.525,
          57.9792,
          23.25,
          28.5,
          153.4625,
          18,
          133.65,
          7.8958,
          66.6,
          134.5,
          8.05,
          35.5,
          26,
          263,
          13,
          13,
          13,
          13,
          13,
          16.1,
          15.9,
          8.6625,
          9.225,
          35,
          7.2292,
          17.8,
          7.225,
          9.5,
          55,
          13,
          7.8792,
          7.8792,
          27.9,
          27.7208,
          14.4542,
          7.05,
          15.5,
          7.25,
          75.25,
          7.2292,
          7.75,
          69.3,
          55.4417,
          6.4958,
          8.05,
          135.6333,
          21.075,
          82.1708,
          7.25,
          211.5,
          4.0125,
          7.775,
          227.525,
          15.7417,
          7.925,
          52,
          7.8958,
          73.5,
          46.9,
          13,
          7.7292,
          12,
          120,
          7.7958,
          7.925,
          113.275,
          16.7,
          7.7958,
          7.8542,
          26,
          10.5,
          12.65,
          7.925,
          8.05,
          9.825,
          15.85,
          8.6625,
          21,
          7.75,
          18.75,
          7.775,
          25.4667,
          7.8958,
          6.8583,
          90,
          0,
          7.925,
          8.05,
          32.5,
          13,
          13,
          24.15,
          7.8958,
          7.7333,
          7.875,
          14.4,
          20.2125,
          7.25,
          26,
          26,
          7.75,
          8.05,
          26.55,
          16.1,
          26,
          7.125,
          55.9,
          120,
          34.375,
          18.75,
          263,
          10.5,
          26.25,
          9.5,
          7.775,
          13,
          8.1125,
          81.8583,
          19.5,
          26.55,
          19.2583,
          30.5,
          27.75,
          19.9667,
          27.75,
          89.1042,
          8.05,
          7.8958,
          26.55,
          51.8625,
          10.5,
          7.75,
          26.55,
          8.05,
          38.5,
          13,
          8.05,
          7.05,
          0,
          26.55,
          7.725,
          19.2583,
          7.25,
          8.6625,
          27.75,
          13.7917,
          9.8375,
          52,
          21,
          7.0458,
          7.5208,
          12.2875,
          46.9,
          0,
          8.05,
          9.5875,
          91.0792,
          25.4667,
          90,
          29.7,
          8.05,
          15.9,
          19.9667,
          7.25,
          30.5,
          49.5042,
          8.05,
          14.4583,
          78.2667,
          15.1,
          151.55,
          7.7958,
          8.6625,
          7.75,
          7.6292,
          9.5875,
          86.5,
          108.9,
          26,
          26.55,
          22.525,
          56.4958,
          7.75,
          8.05,
          26.2875,
          59.4,
          7.4958,
          34.0208,
          10.5,
          24.15,
          26,
          7.8958,
          93.5,
          7.8958,
          7.225,
          57.9792,
          7.2292,
          7.75,
          10.5,
          221.7792,
          7.925,
          11.5,
          26,
          7.2292,
          7.2292,
          22.3583,
          8.6625,
          26.25,
          26.55,
          106.425,
          14.5,
          49.5,
          71,
          31.275,
          31.275,
          26,
          106.425,
          26,
          26,
          13.8625,
          20.525,
          36.75,
          110.8833,
          26,
          7.8292,
          7.225,
          7.775,
          26.55,
          39.6,
          227.525,
          79.65,
          17.4,
          7.75,
          7.8958,
          13.5,
          8.05,
          8.05,
          24.15,
          7.8958,
          21.075,
          7.2292,
          7.8542,
          10.5,
          51.4792,
          26.3875,
          7.75,
          8.05,
          14.5,
          13,
          55.9,
          14.4583,
          7.925,
          30,
          110.8833,
          26,
          40.125,
          8.7125,
          79.65,
          15,
          79.2,
          8.05,
          8.05,
          7.125,
          78.2667,
          7.25,
          7.75,
          26,
          24.15,
          33,
          0,
          7.225,
          56.9292,
          27,
          7.8958,
          42.4,
          8.05,
          26.55,
          15.55,
          7.8958,
          30.5,
          41.5792,
          153.4625,
          31.275,
          7.05,
          15.5,
          7.75,
          8.05,
          65,
          14.4,
          16.1,
          39,
          10.5,
          14.4542,
          52.5542,
          15.7417,
          7.8542,
          16.1,
          32.3208,
          12.35,
          77.9583,
          7.8958,
          7.7333,
          30,
          7.0542,
          30.5,
          0,
          27.9,
          13,
          7.925,
          26.25,
          39.6875,
          16.1,
          7.8542,
          69.3,
          27.9,
          56.4958,
          19.2583,
          76.7292,
          7.8958,
          35.5,
          7.55,
          7.55,
          7.8958,
          23,
          8.4333,
          7.8292,
          6.75,
          73.5,
          7.8958,
          15.5,
          13,
          113.275,
          133.65,
          7.225,
          25.5875,
          7.4958,
          7.925,
          73.5,
          13,
          7.775,
          8.05,
          52,
          39,
          52,
          10.5,
          13,
          0,
          7.775,
          8.05,
          9.8417,
          46.9,
          512.3292,
          8.1375,
          76.7292,
          9.225,
          46.9,
          39,
          41.5792,
          39.6875,
          10.1708,
          7.7958,
          211.3375,
          57,
          13.4167,
          56.4958,
          7.225,
          26.55,
          13.5,
          8.05,
          7.7333,
          110.8833,
          7.65,
          227.525,
          26.2875,
          14.4542,
          7.7417,
          7.8542,
          26,
          13.5,
          26.2875,
          151.55,
          15.2458,
          49.5042,
          26.55,
          52,
          9.4833,
          13,
          7.65,
          227.525,
          10.5,
          15.5,
          7.775,
          33,
          7.0542,
          13,
          13,
          53.1,
          8.6625,
          21,
          7.7375,
          26,
          7.925,
          211.3375,
          18.7875,
          0,
          13,
          13,
          16.1,
          34.375,
          512.3292,
          7.8958,
          7.8958,
          30,
          78.85,
          262.375,
          16.1,
          7.925,
          71,
          20.25,
          13,
          53.1,
          7.75,
          23,
          12.475,
          9.5,
          7.8958,
          65,
          14.5,
          7.7958,
          11.5,
          8.05,
          86.5,
          14.5,
          7.125,
          7.2292,
          120,
          7.775,
          77.9583,
          39.6,
          7.75,
          24.15,
          8.3625,
          9.5,
          7.8542,
          10.5,
          7.225,
          23,
          7.75,
          7.75,
          12.475,
          7.7375,
          211.3375,
          7.2292,
          57,
          30,
          23.45,
          7.05,
          7.25,
          7.4958,
          29.125,
          20.575,
          79.2,
          7.75,
          26,
          69.55,
          30.6958,
          7.8958,
          13,
          25.9292,
          8.6833,
          7.2292,
          24.15,
          13,
          26.25,
          120,
          8.5167,
          6.975,
          7.775,
          0,
          7.775,
          13,
          53.1,
          7.8875,
          24.15,
          10.5,
          31.275,
          8.05,
          0,
          7.925,
          37.0042,
          6.45,
          27.9,
          93.5,
          8.6625,
          0,
          12.475,
          39.6875,
          6.95,
          56.4958,
          37.0042,
          7.75,
          80,
          14.4542,
          18.75,
          7.2292,
          7.8542,
          8.3,
          83.1583,
          8.6625,
          8.05,
          56.4958,
          29.7,
          7.925,
          10.5,
          31,
          6.4375,
          8.6625,
          7.55,
          69.55,
          7.8958,
          33,
          89.1042,
          31.275,
          7.775,
          15.2458,
          39.4,
          26,
          9.35,
          164.8667,
          26.55,
          19.2583,
          7.2292,
          14.1083,
          11.5,
          25.9292,
          69.55,
          13,
          13,
          13.8583,
          50.4958,
          9.5,
          11.1333,
          7.8958,
          52.5542,
          5,
          9,
          24,
          7.225,
          9.8458,
          7.8958,
          7.8958,
          83.1583,
          26,
          7.8958,
          10.5167,
          10.5,
          7.05,
          29.125,
          13,
          30,
          23.45,
          30,
          7.75
         ]
        }
       ],
       "layout": {
        "barmode": "overlay",
        "legend": {
         "bgcolor": "#F5F6F9",
         "font": {
          "color": "#4D5663"
         }
        },
        "paper_bgcolor": "#F5F6F9",
        "plot_bgcolor": "#F5F6F9",
        "template": {
         "data": {
          "bar": [
           {
            "error_x": {
             "color": "#2a3f5f"
            },
            "error_y": {
             "color": "#2a3f5f"
            },
            "marker": {
             "line": {
              "color": "#E5ECF6",
              "width": 0.5
             }
            },
            "type": "bar"
           }
          ],
          "barpolar": [
           {
            "marker": {
             "line": {
              "color": "#E5ECF6",
              "width": 0.5
             }
            },
            "type": "barpolar"
           }
          ],
          "carpet": [
           {
            "aaxis": {
             "endlinecolor": "#2a3f5f",
             "gridcolor": "white",
             "linecolor": "white",
             "minorgridcolor": "white",
             "startlinecolor": "#2a3f5f"
            },
            "baxis": {
             "endlinecolor": "#2a3f5f",
             "gridcolor": "white",
             "linecolor": "white",
             "minorgridcolor": "white",
             "startlinecolor": "#2a3f5f"
            },
            "type": "carpet"
           }
          ],
          "choropleth": [
           {
            "colorbar": {
             "outlinewidth": 0,
             "ticks": ""
            },
            "type": "choropleth"
           }
          ],
          "contour": [
           {
            "colorbar": {
             "outlinewidth": 0,
             "ticks": ""
            },
            "colorscale": [
             [
              0,
              "#0d0887"
             ],
             [
              0.1111111111111111,
              "#46039f"
             ],
             [
              0.2222222222222222,
              "#7201a8"
             ],
             [
              0.3333333333333333,
              "#9c179e"
             ],
             [
              0.4444444444444444,
              "#bd3786"
             ],
             [
              0.5555555555555556,
              "#d8576b"
             ],
             [
              0.6666666666666666,
              "#ed7953"
             ],
             [
              0.7777777777777778,
              "#fb9f3a"
             ],
             [
              0.8888888888888888,
              "#fdca26"
             ],
             [
              1,
              "#f0f921"
             ]
            ],
            "type": "contour"
           }
          ],
          "contourcarpet": [
           {
            "colorbar": {
             "outlinewidth": 0,
             "ticks": ""
            },
            "type": "contourcarpet"
           }
          ],
          "heatmap": [
           {
            "colorbar": {
             "outlinewidth": 0,
             "ticks": ""
            },
            "colorscale": [
             [
              0,
              "#0d0887"
             ],
             [
              0.1111111111111111,
              "#46039f"
             ],
             [
              0.2222222222222222,
              "#7201a8"
             ],
             [
              0.3333333333333333,
              "#9c179e"
             ],
             [
              0.4444444444444444,
              "#bd3786"
             ],
             [
              0.5555555555555556,
              "#d8576b"
             ],
             [
              0.6666666666666666,
              "#ed7953"
             ],
             [
              0.7777777777777778,
              "#fb9f3a"
             ],
             [
              0.8888888888888888,
              "#fdca26"
             ],
             [
              1,
              "#f0f921"
             ]
            ],
            "type": "heatmap"
           }
          ],
          "heatmapgl": [
           {
            "colorbar": {
             "outlinewidth": 0,
             "ticks": ""
            },
            "colorscale": [
             [
              0,
              "#0d0887"
             ],
             [
              0.1111111111111111,
              "#46039f"
             ],
             [
              0.2222222222222222,
              "#7201a8"
             ],
             [
              0.3333333333333333,
              "#9c179e"
             ],
             [
              0.4444444444444444,
              "#bd3786"
             ],
             [
              0.5555555555555556,
              "#d8576b"
             ],
             [
              0.6666666666666666,
              "#ed7953"
             ],
             [
              0.7777777777777778,
              "#fb9f3a"
             ],
             [
              0.8888888888888888,
              "#fdca26"
             ],
             [
              1,
              "#f0f921"
             ]
            ],
            "type": "heatmapgl"
           }
          ],
          "histogram": [
           {
            "marker": {
             "colorbar": {
              "outlinewidth": 0,
              "ticks": ""
             }
            },
            "type": "histogram"
           }
          ],
          "histogram2d": [
           {
            "colorbar": {
             "outlinewidth": 0,
             "ticks": ""
            },
            "colorscale": [
             [
              0,
              "#0d0887"
             ],
             [
              0.1111111111111111,
              "#46039f"
             ],
             [
              0.2222222222222222,
              "#7201a8"
             ],
             [
              0.3333333333333333,
              "#9c179e"
             ],
             [
              0.4444444444444444,
              "#bd3786"
             ],
             [
              0.5555555555555556,
              "#d8576b"
             ],
             [
              0.6666666666666666,
              "#ed7953"
             ],
             [
              0.7777777777777778,
              "#fb9f3a"
             ],
             [
              0.8888888888888888,
              "#fdca26"
             ],
             [
              1,
              "#f0f921"
             ]
            ],
            "type": "histogram2d"
           }
          ],
          "histogram2dcontour": [
           {
            "colorbar": {
             "outlinewidth": 0,
             "ticks": ""
            },
            "colorscale": [
             [
              0,
              "#0d0887"
             ],
             [
              0.1111111111111111,
              "#46039f"
             ],
             [
              0.2222222222222222,
              "#7201a8"
             ],
             [
              0.3333333333333333,
              "#9c179e"
             ],
             [
              0.4444444444444444,
              "#bd3786"
             ],
             [
              0.5555555555555556,
              "#d8576b"
             ],
             [
              0.6666666666666666,
              "#ed7953"
             ],
             [
              0.7777777777777778,
              "#fb9f3a"
             ],
             [
              0.8888888888888888,
              "#fdca26"
             ],
             [
              1,
              "#f0f921"
             ]
            ],
            "type": "histogram2dcontour"
           }
          ],
          "mesh3d": [
           {
            "colorbar": {
             "outlinewidth": 0,
             "ticks": ""
            },
            "type": "mesh3d"
           }
          ],
          "parcoords": [
           {
            "line": {
             "colorbar": {
              "outlinewidth": 0,
              "ticks": ""
             }
            },
            "type": "parcoords"
           }
          ],
          "pie": [
           {
            "automargin": true,
            "type": "pie"
           }
          ],
          "scatter": [
           {
            "marker": {
             "colorbar": {
              "outlinewidth": 0,
              "ticks": ""
             }
            },
            "type": "scatter"
           }
          ],
          "scatter3d": [
           {
            "line": {
             "colorbar": {
              "outlinewidth": 0,
              "ticks": ""
             }
            },
            "marker": {
             "colorbar": {
              "outlinewidth": 0,
              "ticks": ""
             }
            },
            "type": "scatter3d"
           }
          ],
          "scattercarpet": [
           {
            "marker": {
             "colorbar": {
              "outlinewidth": 0,
              "ticks": ""
             }
            },
            "type": "scattercarpet"
           }
          ],
          "scattergeo": [
           {
            "marker": {
             "colorbar": {
              "outlinewidth": 0,
              "ticks": ""
             }
            },
            "type": "scattergeo"
           }
          ],
          "scattergl": [
           {
            "marker": {
             "colorbar": {
              "outlinewidth": 0,
              "ticks": ""
             }
            },
            "type": "scattergl"
           }
          ],
          "scattermapbox": [
           {
            "marker": {
             "colorbar": {
              "outlinewidth": 0,
              "ticks": ""
             }
            },
            "type": "scattermapbox"
           }
          ],
          "scatterpolar": [
           {
            "marker": {
             "colorbar": {
              "outlinewidth": 0,
              "ticks": ""
             }
            },
            "type": "scatterpolar"
           }
          ],
          "scatterpolargl": [
           {
            "marker": {
             "colorbar": {
              "outlinewidth": 0,
              "ticks": ""
             }
            },
            "type": "scatterpolargl"
           }
          ],
          "scatterternary": [
           {
            "marker": {
             "colorbar": {
              "outlinewidth": 0,
              "ticks": ""
             }
            },
            "type": "scatterternary"
           }
          ],
          "surface": [
           {
            "colorbar": {
             "outlinewidth": 0,
             "ticks": ""
            },
            "colorscale": [
             [
              0,
              "#0d0887"
             ],
             [
              0.1111111111111111,
              "#46039f"
             ],
             [
              0.2222222222222222,
              "#7201a8"
             ],
             [
              0.3333333333333333,
              "#9c179e"
             ],
             [
              0.4444444444444444,
              "#bd3786"
             ],
             [
              0.5555555555555556,
              "#d8576b"
             ],
             [
              0.6666666666666666,
              "#ed7953"
             ],
             [
              0.7777777777777778,
              "#fb9f3a"
             ],
             [
              0.8888888888888888,
              "#fdca26"
             ],
             [
              1,
              "#f0f921"
             ]
            ],
            "type": "surface"
           }
          ],
          "table": [
           {
            "cells": {
             "fill": {
              "color": "#EBF0F8"
             },
             "line": {
              "color": "white"
             }
            },
            "header": {
             "fill": {
              "color": "#C8D4E3"
             },
             "line": {
              "color": "white"
             }
            },
            "type": "table"
           }
          ]
         },
         "layout": {
          "annotationdefaults": {
           "arrowcolor": "#2a3f5f",
           "arrowhead": 0,
           "arrowwidth": 1
          },
          "coloraxis": {
           "colorbar": {
            "outlinewidth": 0,
            "ticks": ""
           }
          },
          "colorscale": {
           "diverging": [
            [
             0,
             "#8e0152"
            ],
            [
             0.1,
             "#c51b7d"
            ],
            [
             0.2,
             "#de77ae"
            ],
            [
             0.3,
             "#f1b6da"
            ],
            [
             0.4,
             "#fde0ef"
            ],
            [
             0.5,
             "#f7f7f7"
            ],
            [
             0.6,
             "#e6f5d0"
            ],
            [
             0.7,
             "#b8e186"
            ],
            [
             0.8,
             "#7fbc41"
            ],
            [
             0.9,
             "#4d9221"
            ],
            [
             1,
             "#276419"
            ]
           ],
           "sequential": [
            [
             0,
             "#0d0887"
            ],
            [
             0.1111111111111111,
             "#46039f"
            ],
            [
             0.2222222222222222,
             "#7201a8"
            ],
            [
             0.3333333333333333,
             "#9c179e"
            ],
            [
             0.4444444444444444,
             "#bd3786"
            ],
            [
             0.5555555555555556,
             "#d8576b"
            ],
            [
             0.6666666666666666,
             "#ed7953"
            ],
            [
             0.7777777777777778,
             "#fb9f3a"
            ],
            [
             0.8888888888888888,
             "#fdca26"
            ],
            [
             1,
             "#f0f921"
            ]
           ],
           "sequentialminus": [
            [
             0,
             "#0d0887"
            ],
            [
             0.1111111111111111,
             "#46039f"
            ],
            [
             0.2222222222222222,
             "#7201a8"
            ],
            [
             0.3333333333333333,
             "#9c179e"
            ],
            [
             0.4444444444444444,
             "#bd3786"
            ],
            [
             0.5555555555555556,
             "#d8576b"
            ],
            [
             0.6666666666666666,
             "#ed7953"
            ],
            [
             0.7777777777777778,
             "#fb9f3a"
            ],
            [
             0.8888888888888888,
             "#fdca26"
            ],
            [
             1,
             "#f0f921"
            ]
           ]
          },
          "colorway": [
           "#636efa",
           "#EF553B",
           "#00cc96",
           "#ab63fa",
           "#FFA15A",
           "#19d3f3",
           "#FF6692",
           "#B6E880",
           "#FF97FF",
           "#FECB52"
          ],
          "font": {
           "color": "#2a3f5f"
          },
          "geo": {
           "bgcolor": "white",
           "lakecolor": "white",
           "landcolor": "#E5ECF6",
           "showlakes": true,
           "showland": true,
           "subunitcolor": "white"
          },
          "hoverlabel": {
           "align": "left"
          },
          "hovermode": "closest",
          "mapbox": {
           "style": "light"
          },
          "paper_bgcolor": "white",
          "plot_bgcolor": "#E5ECF6",
          "polar": {
           "angularaxis": {
            "gridcolor": "white",
            "linecolor": "white",
            "ticks": ""
           },
           "bgcolor": "#E5ECF6",
           "radialaxis": {
            "gridcolor": "white",
            "linecolor": "white",
            "ticks": ""
           }
          },
          "scene": {
           "xaxis": {
            "backgroundcolor": "#E5ECF6",
            "gridcolor": "white",
            "gridwidth": 2,
            "linecolor": "white",
            "showbackground": true,
            "ticks": "",
            "zerolinecolor": "white"
           },
           "yaxis": {
            "backgroundcolor": "#E5ECF6",
            "gridcolor": "white",
            "gridwidth": 2,
            "linecolor": "white",
            "showbackground": true,
            "ticks": "",
            "zerolinecolor": "white"
           },
           "zaxis": {
            "backgroundcolor": "#E5ECF6",
            "gridcolor": "white",
            "gridwidth": 2,
            "linecolor": "white",
            "showbackground": true,
            "ticks": "",
            "zerolinecolor": "white"
           }
          },
          "shapedefaults": {
           "line": {
            "color": "#2a3f5f"
           }
          },
          "ternary": {
           "aaxis": {
            "gridcolor": "white",
            "linecolor": "white",
            "ticks": ""
           },
           "baxis": {
            "gridcolor": "white",
            "linecolor": "white",
            "ticks": ""
           },
           "bgcolor": "#E5ECF6",
           "caxis": {
            "gridcolor": "white",
            "linecolor": "white",
            "ticks": ""
           }
          },
          "title": {
           "x": 0.05
          },
          "xaxis": {
           "automargin": true,
           "gridcolor": "white",
           "linecolor": "white",
           "ticks": "",
           "title": {
            "standoff": 15
           },
           "zerolinecolor": "white",
           "zerolinewidth": 2
          },
          "yaxis": {
           "automargin": true,
           "gridcolor": "white",
           "linecolor": "white",
           "ticks": "",
           "title": {
            "standoff": 15
           },
           "zerolinecolor": "white",
           "zerolinewidth": 2
          }
         }
        },
        "title": {
         "font": {
          "color": "#4D5663"
         }
        },
        "xaxis": {
         "gridcolor": "#E1E5ED",
         "showgrid": true,
         "tickfont": {
          "color": "#4D5663"
         },
         "title": {
          "font": {
           "color": "#4D5663"
          },
          "text": ""
         },
         "zerolinecolor": "#E1E5ED"
        },
        "yaxis": {
         "gridcolor": "#E1E5ED",
         "showgrid": true,
         "tickfont": {
          "color": "#4D5663"
         },
         "title": {
          "font": {
           "color": "#4D5663"
          },
          "text": ""
         },
         "zerolinecolor": "#E1E5ED"
        }
       }
      },
      "text/html": [
       "<div>\n",
       "        \n",
       "        \n",
       "            <div id=\"c902d7e0-15fe-48fe-a396-0eee91ae80bf\" class=\"plotly-graph-div\" style=\"height:525px; width:100%;\"></div>\n",
       "            <script type=\"text/javascript\">\n",
       "                require([\"plotly\"], function(Plotly) {\n",
       "                    window.PLOTLYENV=window.PLOTLYENV || {};\n",
       "                    window.PLOTLYENV.BASE_URL='https://plot.ly';\n",
       "                    \n",
       "                if (document.getElementById(\"c902d7e0-15fe-48fe-a396-0eee91ae80bf\")) {\n",
       "                    Plotly.newPlot(\n",
       "                        'c902d7e0-15fe-48fe-a396-0eee91ae80bf',\n",
       "                        [{\"histfunc\": \"count\", \"histnorm\": \"\", \"marker\": {\"color\": \"rgba(255, 153, 51, 1.0)\", \"line\": {\"color\": \"#4D5663\", \"width\": 1.3}}, \"name\": \"Fare\", \"nbinsx\": 50, \"opacity\": 0.8, \"orientation\": \"v\", \"type\": \"histogram\", \"x\": [7.25, 71.2833, 7.925, 53.1, 8.05, 8.4583, 51.8625, 21.075, 11.1333, 30.0708, 16.7, 26.55, 8.05, 31.275, 7.8542, 16.0, 29.125, 13.0, 18.0, 7.225, 26.0, 13.0, 8.0292, 35.5, 21.075, 31.3875, 7.225, 263.0, 7.8792, 7.8958, 27.7208, 146.5208, 7.75, 10.5, 82.1708, 52.0, 7.2292, 8.05, 18.0, 11.2417, 9.475, 21.0, 7.8958, 41.5792, 7.8792, 8.05, 15.5, 7.75, 21.6792, 17.8, 39.6875, 7.8, 76.7292, 26.0, 61.9792, 35.5, 10.5, 7.2292, 27.75, 46.9, 7.2292, 80.0, 83.475, 27.9, 27.7208, 15.2458, 10.5, 8.1583, 7.925, 8.6625, 10.5, 46.9, 73.5, 14.4542, 56.4958, 7.65, 7.8958, 8.05, 29.0, 12.475, 9.0, 9.5, 7.7875, 47.1, 10.5, 15.85, 34.375, 8.05, 263.0, 8.05, 8.05, 7.8542, 61.175, 20.575, 7.25, 8.05, 34.6542, 63.3583, 23.0, 26.0, 7.8958, 7.8958, 77.2875, 8.6542, 7.925, 7.8958, 7.65, 7.775, 7.8958, 24.15, 52.0, 14.4542, 8.05, 9.825, 14.4583, 7.925, 7.75, 21.0, 247.5208, 31.275, 73.5, 8.05, 30.0708, 13.0, 77.2875, 11.2417, 7.75, 7.1417, 22.3583, 6.975, 7.8958, 7.05, 14.5, 26.0, 13.0, 15.0458, 26.2833, 53.1, 9.2167, 79.2, 15.2458, 7.75, 15.85, 6.75, 11.5, 36.75, 7.7958, 34.375, 26.0, 13.0, 12.525, 66.6, 8.05, 14.5, 7.3125, 61.3792, 7.7333, 8.05, 8.6625, 69.55, 16.1, 15.75, 7.775, 8.6625, 39.6875, 20.525, 55.0, 27.9, 25.925, 56.4958, 33.5, 29.125, 11.1333, 7.925, 30.6958, 7.8542, 25.4667, 28.7125, 13.0, 0.0, 69.55, 15.05, 31.3875, 39.0, 22.025, 50.0, 15.5, 26.55, 15.5, 7.8958, 13.0, 13.0, 7.8542, 26.0, 27.7208, 146.5208, 7.75, 8.4042, 7.75, 13.0, 9.5, 69.55, 6.4958, 7.225, 8.05, 10.4625, 15.85, 18.7875, 7.75, 31.0, 7.05, 21.0, 7.25, 13.0, 7.75, 113.275, 7.925, 27.0, 76.2917, 10.5, 8.05, 13.0, 8.05, 7.8958, 90.0, 9.35, 10.5, 7.25, 13.0, 25.4667, 83.475, 7.775, 13.5, 31.3875, 10.5, 7.55, 26.0, 26.25, 10.5, 12.275, 14.4542, 15.5, 10.5, 7.125, 7.225, 90.0, 7.775, 14.5, 52.5542, 26.0, 7.25, 10.4625, 26.55, 16.1, 20.2125, 15.2458, 79.2, 86.5, 512.3292, 26.0, 7.75, 31.3875, 79.65, 0.0, 7.75, 10.5, 39.6875, 7.775, 153.4625, 135.6333, 31.0, 0.0, 19.5, 29.7, 7.75, 77.9583, 7.75, 0.0, 29.125, 20.25, 7.75, 7.8542, 9.5, 8.05, 26.0, 8.6625, 9.5, 7.8958, 13.0, 7.75, 78.85, 91.0792, 12.875, 8.85, 7.8958, 27.7208, 7.2292, 151.55, 30.5, 247.5208, 7.75, 23.25, 0.0, 12.35, 8.05, 151.55, 110.8833, 108.9, 24.0, 56.9292, 83.1583, 262.375, 26.0, 7.8958, 26.25, 7.8542, 26.0, 14.0, 164.8667, 134.5, 7.25, 7.8958, 12.35, 29.0, 69.55, 135.6333, 6.2375, 13.0, 20.525, 57.9792, 23.25, 28.5, 153.4625, 18.0, 133.65, 7.8958, 66.6, 134.5, 8.05, 35.5, 26.0, 263.0, 13.0, 13.0, 13.0, 13.0, 13.0, 16.1, 15.9, 8.6625, 9.225, 35.0, 7.2292, 17.8, 7.225, 9.5, 55.0, 13.0, 7.8792, 7.8792, 27.9, 27.7208, 14.4542, 7.05, 15.5, 7.25, 75.25, 7.2292, 7.75, 69.3, 55.4417, 6.4958, 8.05, 135.6333, 21.075, 82.1708, 7.25, 211.5, 4.0125, 7.775, 227.525, 15.7417, 7.925, 52.0, 7.8958, 73.5, 46.9, 13.0, 7.7292, 12.0, 120.0, 7.7958, 7.925, 113.275, 16.7, 7.7958, 7.8542, 26.0, 10.5, 12.65, 7.925, 8.05, 9.825, 15.85, 8.6625, 21.0, 7.75, 18.75, 7.775, 25.4667, 7.8958, 6.8583, 90.0, 0.0, 7.925, 8.05, 32.5, 13.0, 13.0, 24.15, 7.8958, 7.7333, 7.875, 14.4, 20.2125, 7.25, 26.0, 26.0, 7.75, 8.05, 26.55, 16.1, 26.0, 7.125, 55.9, 120.0, 34.375, 18.75, 263.0, 10.5, 26.25, 9.5, 7.775, 13.0, 8.1125, 81.8583, 19.5, 26.55, 19.2583, 30.5, 27.75, 19.9667, 27.75, 89.1042, 8.05, 7.8958, 26.55, 51.8625, 10.5, 7.75, 26.55, 8.05, 38.5, 13.0, 8.05, 7.05, 0.0, 26.55, 7.725, 19.2583, 7.25, 8.6625, 27.75, 13.7917, 9.8375, 52.0, 21.0, 7.0458, 7.5208, 12.2875, 46.9, 0.0, 8.05, 9.5875, 91.0792, 25.4667, 90.0, 29.7, 8.05, 15.9, 19.9667, 7.25, 30.5, 49.5042, 8.05, 14.4583, 78.2667, 15.1, 151.55, 7.7958, 8.6625, 7.75, 7.6292, 9.5875, 86.5, 108.9, 26.0, 26.55, 22.525, 56.4958, 7.75, 8.05, 26.2875, 59.4, 7.4958, 34.0208, 10.5, 24.15, 26.0, 7.8958, 93.5, 7.8958, 7.225, 57.9792, 7.2292, 7.75, 10.5, 221.7792, 7.925, 11.5, 26.0, 7.2292, 7.2292, 22.3583, 8.6625, 26.25, 26.55, 106.425, 14.5, 49.5, 71.0, 31.275, 31.275, 26.0, 106.425, 26.0, 26.0, 13.8625, 20.525, 36.75, 110.8833, 26.0, 7.8292, 7.225, 7.775, 26.55, 39.6, 227.525, 79.65, 17.4, 7.75, 7.8958, 13.5, 8.05, 8.05, 24.15, 7.8958, 21.075, 7.2292, 7.8542, 10.5, 51.4792, 26.3875, 7.75, 8.05, 14.5, 13.0, 55.9, 14.4583, 7.925, 30.0, 110.8833, 26.0, 40.125, 8.7125, 79.65, 15.0, 79.2, 8.05, 8.05, 7.125, 78.2667, 7.25, 7.75, 26.0, 24.15, 33.0, 0.0, 7.225, 56.9292, 27.0, 7.8958, 42.4, 8.05, 26.55, 15.55, 7.8958, 30.5, 41.5792, 153.4625, 31.275, 7.05, 15.5, 7.75, 8.05, 65.0, 14.4, 16.1, 39.0, 10.5, 14.4542, 52.5542, 15.7417, 7.8542, 16.1, 32.3208, 12.35, 77.9583, 7.8958, 7.7333, 30.0, 7.0542, 30.5, 0.0, 27.9, 13.0, 7.925, 26.25, 39.6875, 16.1, 7.8542, 69.3, 27.9, 56.4958, 19.2583, 76.7292, 7.8958, 35.5, 7.55, 7.55, 7.8958, 23.0, 8.4333, 7.8292, 6.75, 73.5, 7.8958, 15.5, 13.0, 113.275, 133.65, 7.225, 25.5875, 7.4958, 7.925, 73.5, 13.0, 7.775, 8.05, 52.0, 39.0, 52.0, 10.5, 13.0, 0.0, 7.775, 8.05, 9.8417, 46.9, 512.3292, 8.1375, 76.7292, 9.225, 46.9, 39.0, 41.5792, 39.6875, 10.1708, 7.7958, 211.3375, 57.0, 13.4167, 56.4958, 7.225, 26.55, 13.5, 8.05, 7.7333, 110.8833, 7.65, 227.525, 26.2875, 14.4542, 7.7417, 7.8542, 26.0, 13.5, 26.2875, 151.55, 15.2458, 49.5042, 26.55, 52.0, 9.4833, 13.0, 7.65, 227.525, 10.5, 15.5, 7.775, 33.0, 7.0542, 13.0, 13.0, 53.1, 8.6625, 21.0, 7.7375, 26.0, 7.925, 211.3375, 18.7875, 0.0, 13.0, 13.0, 16.1, 34.375, 512.3292, 7.8958, 7.8958, 30.0, 78.85, 262.375, 16.1, 7.925, 71.0, 20.25, 13.0, 53.1, 7.75, 23.0, 12.475, 9.5, 7.8958, 65.0, 14.5, 7.7958, 11.5, 8.05, 86.5, 14.5, 7.125, 7.2292, 120.0, 7.775, 77.9583, 39.6, 7.75, 24.15, 8.3625, 9.5, 7.8542, 10.5, 7.225, 23.0, 7.75, 7.75, 12.475, 7.7375, 211.3375, 7.2292, 57.0, 30.0, 23.45, 7.05, 7.25, 7.4958, 29.125, 20.575, 79.2, 7.75, 26.0, 69.55, 30.6958, 7.8958, 13.0, 25.9292, 8.6833, 7.2292, 24.15, 13.0, 26.25, 120.0, 8.5167, 6.975, 7.775, 0.0, 7.775, 13.0, 53.1, 7.8875, 24.15, 10.5, 31.275, 8.05, 0.0, 7.925, 37.0042, 6.45, 27.9, 93.5, 8.6625, 0.0, 12.475, 39.6875, 6.95, 56.4958, 37.0042, 7.75, 80.0, 14.4542, 18.75, 7.2292, 7.8542, 8.3, 83.1583, 8.6625, 8.05, 56.4958, 29.7, 7.925, 10.5, 31.0, 6.4375, 8.6625, 7.55, 69.55, 7.8958, 33.0, 89.1042, 31.275, 7.775, 15.2458, 39.4, 26.0, 9.35, 164.8667, 26.55, 19.2583, 7.2292, 14.1083, 11.5, 25.9292, 69.55, 13.0, 13.0, 13.8583, 50.4958, 9.5, 11.1333, 7.8958, 52.5542, 5.0, 9.0, 24.0, 7.225, 9.8458, 7.8958, 7.8958, 83.1583, 26.0, 7.8958, 10.5167, 10.5, 7.05, 29.125, 13.0, 30.0, 23.45, 30.0, 7.75]}],\n",
       "                        {\"barmode\": \"overlay\", \"legend\": {\"bgcolor\": \"#F5F6F9\", \"font\": {\"color\": \"#4D5663\"}}, \"paper_bgcolor\": \"#F5F6F9\", \"plot_bgcolor\": \"#F5F6F9\", \"template\": {\"data\": {\"bar\": [{\"error_x\": {\"color\": \"#2a3f5f\"}, \"error_y\": {\"color\": \"#2a3f5f\"}, \"marker\": {\"line\": {\"color\": \"#E5ECF6\", \"width\": 0.5}}, \"type\": \"bar\"}], \"barpolar\": [{\"marker\": {\"line\": {\"color\": \"#E5ECF6\", \"width\": 0.5}}, \"type\": \"barpolar\"}], \"carpet\": [{\"aaxis\": {\"endlinecolor\": \"#2a3f5f\", \"gridcolor\": \"white\", \"linecolor\": \"white\", \"minorgridcolor\": \"white\", \"startlinecolor\": \"#2a3f5f\"}, \"baxis\": {\"endlinecolor\": \"#2a3f5f\", \"gridcolor\": \"white\", \"linecolor\": \"white\", \"minorgridcolor\": \"white\", \"startlinecolor\": \"#2a3f5f\"}, \"type\": \"carpet\"}], \"choropleth\": [{\"colorbar\": {\"outlinewidth\": 0, \"ticks\": \"\"}, \"type\": \"choropleth\"}], \"contour\": [{\"colorbar\": {\"outlinewidth\": 0, \"ticks\": \"\"}, \"colorscale\": [[0.0, \"#0d0887\"], [0.1111111111111111, \"#46039f\"], [0.2222222222222222, \"#7201a8\"], [0.3333333333333333, \"#9c179e\"], [0.4444444444444444, \"#bd3786\"], [0.5555555555555556, \"#d8576b\"], [0.6666666666666666, \"#ed7953\"], [0.7777777777777778, \"#fb9f3a\"], [0.8888888888888888, \"#fdca26\"], [1.0, \"#f0f921\"]], \"type\": \"contour\"}], \"contourcarpet\": [{\"colorbar\": {\"outlinewidth\": 0, \"ticks\": \"\"}, \"type\": \"contourcarpet\"}], \"heatmap\": [{\"colorbar\": {\"outlinewidth\": 0, \"ticks\": \"\"}, \"colorscale\": [[0.0, \"#0d0887\"], [0.1111111111111111, \"#46039f\"], [0.2222222222222222, \"#7201a8\"], [0.3333333333333333, \"#9c179e\"], [0.4444444444444444, \"#bd3786\"], [0.5555555555555556, \"#d8576b\"], [0.6666666666666666, \"#ed7953\"], [0.7777777777777778, \"#fb9f3a\"], [0.8888888888888888, \"#fdca26\"], [1.0, \"#f0f921\"]], \"type\": \"heatmap\"}], \"heatmapgl\": [{\"colorbar\": {\"outlinewidth\": 0, \"ticks\": \"\"}, \"colorscale\": [[0.0, \"#0d0887\"], [0.1111111111111111, \"#46039f\"], [0.2222222222222222, \"#7201a8\"], [0.3333333333333333, \"#9c179e\"], [0.4444444444444444, \"#bd3786\"], [0.5555555555555556, \"#d8576b\"], [0.6666666666666666, \"#ed7953\"], [0.7777777777777778, \"#fb9f3a\"], [0.8888888888888888, \"#fdca26\"], [1.0, \"#f0f921\"]], \"type\": \"heatmapgl\"}], \"histogram\": [{\"marker\": {\"colorbar\": {\"outlinewidth\": 0, \"ticks\": \"\"}}, \"type\": \"histogram\"}], \"histogram2d\": [{\"colorbar\": {\"outlinewidth\": 0, \"ticks\": \"\"}, \"colorscale\": [[0.0, \"#0d0887\"], [0.1111111111111111, \"#46039f\"], [0.2222222222222222, \"#7201a8\"], [0.3333333333333333, \"#9c179e\"], [0.4444444444444444, \"#bd3786\"], [0.5555555555555556, \"#d8576b\"], [0.6666666666666666, \"#ed7953\"], [0.7777777777777778, \"#fb9f3a\"], [0.8888888888888888, \"#fdca26\"], [1.0, \"#f0f921\"]], \"type\": \"histogram2d\"}], \"histogram2dcontour\": [{\"colorbar\": {\"outlinewidth\": 0, \"ticks\": \"\"}, \"colorscale\": [[0.0, \"#0d0887\"], [0.1111111111111111, \"#46039f\"], [0.2222222222222222, \"#7201a8\"], [0.3333333333333333, \"#9c179e\"], [0.4444444444444444, \"#bd3786\"], [0.5555555555555556, \"#d8576b\"], [0.6666666666666666, \"#ed7953\"], [0.7777777777777778, \"#fb9f3a\"], [0.8888888888888888, \"#fdca26\"], [1.0, \"#f0f921\"]], \"type\": \"histogram2dcontour\"}], \"mesh3d\": [{\"colorbar\": {\"outlinewidth\": 0, \"ticks\": \"\"}, \"type\": \"mesh3d\"}], \"parcoords\": [{\"line\": {\"colorbar\": {\"outlinewidth\": 0, \"ticks\": \"\"}}, \"type\": \"parcoords\"}], \"pie\": [{\"automargin\": true, \"type\": \"pie\"}], \"scatter\": [{\"marker\": {\"colorbar\": {\"outlinewidth\": 0, \"ticks\": \"\"}}, \"type\": \"scatter\"}], \"scatter3d\": [{\"line\": {\"colorbar\": {\"outlinewidth\": 0, \"ticks\": \"\"}}, \"marker\": {\"colorbar\": {\"outlinewidth\": 0, \"ticks\": \"\"}}, \"type\": \"scatter3d\"}], \"scattercarpet\": [{\"marker\": {\"colorbar\": {\"outlinewidth\": 0, \"ticks\": \"\"}}, \"type\": \"scattercarpet\"}], \"scattergeo\": [{\"marker\": {\"colorbar\": {\"outlinewidth\": 0, \"ticks\": \"\"}}, \"type\": \"scattergeo\"}], \"scattergl\": [{\"marker\": {\"colorbar\": {\"outlinewidth\": 0, \"ticks\": \"\"}}, \"type\": \"scattergl\"}], \"scattermapbox\": [{\"marker\": {\"colorbar\": {\"outlinewidth\": 0, \"ticks\": \"\"}}, \"type\": \"scattermapbox\"}], \"scatterpolar\": [{\"marker\": {\"colorbar\": {\"outlinewidth\": 0, \"ticks\": \"\"}}, \"type\": \"scatterpolar\"}], \"scatterpolargl\": [{\"marker\": {\"colorbar\": {\"outlinewidth\": 0, \"ticks\": \"\"}}, \"type\": \"scatterpolargl\"}], \"scatterternary\": [{\"marker\": {\"colorbar\": {\"outlinewidth\": 0, \"ticks\": \"\"}}, \"type\": \"scatterternary\"}], \"surface\": [{\"colorbar\": {\"outlinewidth\": 0, \"ticks\": \"\"}, \"colorscale\": [[0.0, \"#0d0887\"], [0.1111111111111111, \"#46039f\"], [0.2222222222222222, \"#7201a8\"], [0.3333333333333333, \"#9c179e\"], [0.4444444444444444, \"#bd3786\"], [0.5555555555555556, \"#d8576b\"], [0.6666666666666666, \"#ed7953\"], [0.7777777777777778, \"#fb9f3a\"], [0.8888888888888888, \"#fdca26\"], [1.0, \"#f0f921\"]], \"type\": \"surface\"}], \"table\": [{\"cells\": {\"fill\": {\"color\": \"#EBF0F8\"}, \"line\": {\"color\": \"white\"}}, \"header\": {\"fill\": {\"color\": \"#C8D4E3\"}, \"line\": {\"color\": \"white\"}}, \"type\": \"table\"}]}, \"layout\": {\"annotationdefaults\": {\"arrowcolor\": \"#2a3f5f\", \"arrowhead\": 0, \"arrowwidth\": 1}, \"coloraxis\": {\"colorbar\": {\"outlinewidth\": 0, \"ticks\": \"\"}}, \"colorscale\": {\"diverging\": [[0, \"#8e0152\"], [0.1, \"#c51b7d\"], [0.2, \"#de77ae\"], [0.3, \"#f1b6da\"], [0.4, \"#fde0ef\"], [0.5, \"#f7f7f7\"], [0.6, \"#e6f5d0\"], [0.7, \"#b8e186\"], [0.8, \"#7fbc41\"], [0.9, \"#4d9221\"], [1, \"#276419\"]], \"sequential\": [[0.0, \"#0d0887\"], [0.1111111111111111, \"#46039f\"], [0.2222222222222222, \"#7201a8\"], [0.3333333333333333, \"#9c179e\"], [0.4444444444444444, \"#bd3786\"], [0.5555555555555556, \"#d8576b\"], [0.6666666666666666, \"#ed7953\"], [0.7777777777777778, \"#fb9f3a\"], [0.8888888888888888, \"#fdca26\"], [1.0, \"#f0f921\"]], \"sequentialminus\": [[0.0, \"#0d0887\"], [0.1111111111111111, \"#46039f\"], [0.2222222222222222, \"#7201a8\"], [0.3333333333333333, \"#9c179e\"], [0.4444444444444444, \"#bd3786\"], [0.5555555555555556, \"#d8576b\"], [0.6666666666666666, \"#ed7953\"], [0.7777777777777778, \"#fb9f3a\"], [0.8888888888888888, \"#fdca26\"], [1.0, \"#f0f921\"]]}, \"colorway\": [\"#636efa\", \"#EF553B\", \"#00cc96\", \"#ab63fa\", \"#FFA15A\", \"#19d3f3\", \"#FF6692\", \"#B6E880\", \"#FF97FF\", \"#FECB52\"], \"font\": {\"color\": \"#2a3f5f\"}, \"geo\": {\"bgcolor\": \"white\", \"lakecolor\": \"white\", \"landcolor\": \"#E5ECF6\", \"showlakes\": true, \"showland\": true, \"subunitcolor\": \"white\"}, \"hoverlabel\": {\"align\": \"left\"}, \"hovermode\": \"closest\", \"mapbox\": {\"style\": \"light\"}, \"paper_bgcolor\": \"white\", \"plot_bgcolor\": \"#E5ECF6\", \"polar\": {\"angularaxis\": {\"gridcolor\": \"white\", \"linecolor\": \"white\", \"ticks\": \"\"}, \"bgcolor\": \"#E5ECF6\", \"radialaxis\": {\"gridcolor\": \"white\", \"linecolor\": \"white\", \"ticks\": \"\"}}, \"scene\": {\"xaxis\": {\"backgroundcolor\": \"#E5ECF6\", \"gridcolor\": \"white\", \"gridwidth\": 2, \"linecolor\": \"white\", \"showbackground\": true, \"ticks\": \"\", \"zerolinecolor\": \"white\"}, \"yaxis\": {\"backgroundcolor\": \"#E5ECF6\", \"gridcolor\": \"white\", \"gridwidth\": 2, \"linecolor\": \"white\", \"showbackground\": true, \"ticks\": \"\", \"zerolinecolor\": \"white\"}, \"zaxis\": {\"backgroundcolor\": \"#E5ECF6\", \"gridcolor\": \"white\", \"gridwidth\": 2, \"linecolor\": \"white\", \"showbackground\": true, \"ticks\": \"\", \"zerolinecolor\": \"white\"}}, \"shapedefaults\": {\"line\": {\"color\": \"#2a3f5f\"}}, \"ternary\": {\"aaxis\": {\"gridcolor\": \"white\", \"linecolor\": \"white\", \"ticks\": \"\"}, \"baxis\": {\"gridcolor\": \"white\", \"linecolor\": \"white\", \"ticks\": \"\"}, \"bgcolor\": \"#E5ECF6\", \"caxis\": {\"gridcolor\": \"white\", \"linecolor\": \"white\", \"ticks\": \"\"}}, \"title\": {\"x\": 0.05}, \"xaxis\": {\"automargin\": true, \"gridcolor\": \"white\", \"linecolor\": \"white\", \"ticks\": \"\", \"title\": {\"standoff\": 15}, \"zerolinecolor\": \"white\", \"zerolinewidth\": 2}, \"yaxis\": {\"automargin\": true, \"gridcolor\": \"white\", \"linecolor\": \"white\", \"ticks\": \"\", \"title\": {\"standoff\": 15}, \"zerolinecolor\": \"white\", \"zerolinewidth\": 2}}}, \"title\": {\"font\": {\"color\": \"#4D5663\"}}, \"xaxis\": {\"gridcolor\": \"#E1E5ED\", \"showgrid\": true, \"tickfont\": {\"color\": \"#4D5663\"}, \"title\": {\"font\": {\"color\": \"#4D5663\"}, \"text\": \"\"}, \"zerolinecolor\": \"#E1E5ED\"}, \"yaxis\": {\"gridcolor\": \"#E1E5ED\", \"showgrid\": true, \"tickfont\": {\"color\": \"#4D5663\"}, \"title\": {\"font\": {\"color\": \"#4D5663\"}, \"text\": \"\"}, \"zerolinecolor\": \"#E1E5ED\"}},\n",
       "                        {\"showLink\": true, \"linkText\": \"Export to plot.ly\", \"plotlyServerURL\": \"https://plot.ly\", \"responsive\": true}\n",
       "                    ).then(function(){\n",
       "                            \n",
       "var gd = document.getElementById('c902d7e0-15fe-48fe-a396-0eee91ae80bf');\n",
       "var x = new MutationObserver(function (mutations, observer) {{\n",
       "        var display = window.getComputedStyle(gd).display;\n",
       "        if (!display || display === 'none') {{\n",
       "            console.log([gd, 'removed!']);\n",
       "            Plotly.purge(gd);\n",
       "            observer.disconnect();\n",
       "        }}\n",
       "}});\n",
       "\n",
       "// Listen for the removal of the full notebook cells\n",
       "var notebookContainer = gd.closest('#notebook-container');\n",
       "if (notebookContainer) {{\n",
       "    x.observe(notebookContainer, {childList: true});\n",
       "}}\n",
       "\n",
       "// Listen for the clearing of the current output cell\n",
       "var outputEl = gd.closest('.output');\n",
       "if (outputEl) {{\n",
       "    x.observe(outputEl, {childList: true});\n",
       "}}\n",
       "\n",
       "                        })\n",
       "                };\n",
       "                });\n",
       "            </script>\n",
       "        </div>"
      ]
     },
     "metadata": {},
     "output_type": "display_data"
    }
   ],
   "source": [
    "train['Fare'].iplot(kind='hist',bins=50)"
   ]
  },
  {
   "cell_type": "markdown",
   "metadata": {},
   "source": [
    "# Cleaning our Data "
   ]
  },
  {
   "cell_type": "markdown",
   "metadata": {},
   "source": [
    "What we want to do now is switch gears to cleaning our data cleaning our data will allow us to transform\n",
    "our data into an acceptable form for our machine learning algorithms."
   ]
  },
  {
   "cell_type": "markdown",
   "metadata": {},
   "source": [
    "# Missing Data"
   ]
  },
  {
   "cell_type": "markdown",
   "metadata": {},
   "source": [
    "And as soon as heat map in order to quickly create a mapping globalization to where we were missing\n",
    "\n",
    "data we want to fill in missing data for the age column instead of just dropping all the missing age data rows.\n",
    "\n",
    "One way to do this is by filling in the mean age of all the passengers.\n",
    "\n",
    "This is known as imputation and that means you could just take the average age and fill in the missing values with the average age.\n",
    "However we can even be a step smarter about this and check the average age passenger class."
   ]
  },
  {
   "cell_type": "code",
   "execution_count": 160,
   "metadata": {},
   "outputs": [
    {
     "data": {
      "text/plain": [
       "<matplotlib.axes._subplots.AxesSubplot at 0x263d5b14358>"
      ]
     },
     "execution_count": 160,
     "metadata": {},
     "output_type": "execute_result"
    },
    {
     "data": {
      "image/png": "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\n",
      "text/plain": [
       "<Figure size 720x576 with 1 Axes>"
      ]
     },
     "metadata": {},
     "output_type": "display_data"
    }
   ],
   "source": [
    "plt.figure(figsize=(10,8))\n",
    "sns.boxplot(x='Pclass',y='Age',data=train)"
   ]
  },
  {
   "cell_type": "markdown",
   "metadata": {},
   "source": [
    "\n",
    "Now we can kind of zoom in on the center points of the sexual box plot.\n",
    "\n",
    "We can see here that when we separate by class the wealthier passengers in the first class and second class tend to actually be a bit older than passengers in the third class.\n",
    "\n",
    "Now you may think that this kind of makes sense because maybe wealth in order to reach the first or second class tears takes age or time to accumulate.\n",
    "\n",
    "So if you have enough time to accumulate enough wealth you'll be older and more likely to be in the first class."
   ]
  },
  {
   "cell_type": "code",
   "execution_count": null,
   "metadata": {},
   "outputs": [],
   "source": []
  },
  {
   "cell_type": "code",
   "execution_count": null,
   "metadata": {},
   "outputs": [],
   "source": []
  },
  {
   "cell_type": "code",
   "execution_count": 161,
   "metadata": {},
   "outputs": [],
   "source": [
    "def impute_age(cols):\n",
    "    Age = cols[0]\n",
    "    Pclass = cols[1]\n",
    "    \n",
    "    if pd.isnull(Age):\n",
    "        if Pclass== 1:\n",
    "            return 37\n",
    "        elif Pclass ==2:\n",
    "            return 29\n",
    "        else:\n",
    "            return 24\n",
    "    else:\n",
    "            return Age\n",
    "        "
   ]
  },
  {
   "cell_type": "code",
   "execution_count": 162,
   "metadata": {},
   "outputs": [],
   "source": [
    "train['Age']=train[['Age','Pclass']].apply(impute_age,axis=1)"
   ]
  },
  {
   "cell_type": "code",
   "execution_count": 163,
   "metadata": {},
   "outputs": [
    {
     "data": {
      "text/plain": [
       "<matplotlib.axes._subplots.AxesSubplot at 0x263d5c2d470>"
      ]
     },
     "execution_count": 163,
     "metadata": {},
     "output_type": "execute_result"
    },
    {
     "data": {
      "image/png": "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\n",
      "text/plain": [
       "<Figure size 432x288 with 1 Axes>"
      ]
     },
     "metadata": {},
     "output_type": "display_data"
    }
   ],
   "source": [
    "sns.heatmap(train.isnull(),yticklabels=False,cbar=False,cmap='viridis')"
   ]
  },
  {
   "cell_type": "markdown",
   "metadata": {},
   "source": [
    "Now we dont have any missing values in Age coloumn"
   ]
  },
  {
   "cell_type": "markdown",
   "metadata": {},
   "source": [
    "and also In Cabin Coloumn there is so much missing values so just drop it"
   ]
  },
  {
   "cell_type": "code",
   "execution_count": 164,
   "metadata": {},
   "outputs": [],
   "source": [
    "train.drop('Cabin',axis=1,inplace=True)"
   ]
  },
  {
   "cell_type": "code",
   "execution_count": 165,
   "metadata": {},
   "outputs": [
    {
     "data": {
      "text/html": [
       "<div>\n",
       "<style scoped>\n",
       "    .dataframe tbody tr th:only-of-type {\n",
       "        vertical-align: middle;\n",
       "    }\n",
       "\n",
       "    .dataframe tbody tr th {\n",
       "        vertical-align: top;\n",
       "    }\n",
       "\n",
       "    .dataframe thead th {\n",
       "        text-align: right;\n",
       "    }\n",
       "</style>\n",
       "<table border=\"1\" class=\"dataframe\">\n",
       "  <thead>\n",
       "    <tr style=\"text-align: right;\">\n",
       "      <th></th>\n",
       "      <th>PassengerId</th>\n",
       "      <th>Survived</th>\n",
       "      <th>Pclass</th>\n",
       "      <th>Name</th>\n",
       "      <th>Sex</th>\n",
       "      <th>Age</th>\n",
       "      <th>SibSp</th>\n",
       "      <th>Parch</th>\n",
       "      <th>Ticket</th>\n",
       "      <th>Fare</th>\n",
       "      <th>Embarked</th>\n",
       "    </tr>\n",
       "  </thead>\n",
       "  <tbody>\n",
       "    <tr>\n",
       "      <th>0</th>\n",
       "      <td>1</td>\n",
       "      <td>0</td>\n",
       "      <td>3</td>\n",
       "      <td>Braund, Mr. Owen Harris</td>\n",
       "      <td>male</td>\n",
       "      <td>22.0</td>\n",
       "      <td>1</td>\n",
       "      <td>0</td>\n",
       "      <td>A/5 21171</td>\n",
       "      <td>7.2500</td>\n",
       "      <td>S</td>\n",
       "    </tr>\n",
       "    <tr>\n",
       "      <th>1</th>\n",
       "      <td>2</td>\n",
       "      <td>1</td>\n",
       "      <td>1</td>\n",
       "      <td>Cumings, Mrs. John Bradley (Florence Briggs Th...</td>\n",
       "      <td>female</td>\n",
       "      <td>38.0</td>\n",
       "      <td>1</td>\n",
       "      <td>0</td>\n",
       "      <td>PC 17599</td>\n",
       "      <td>71.2833</td>\n",
       "      <td>C</td>\n",
       "    </tr>\n",
       "    <tr>\n",
       "      <th>2</th>\n",
       "      <td>3</td>\n",
       "      <td>1</td>\n",
       "      <td>3</td>\n",
       "      <td>Heikkinen, Miss. Laina</td>\n",
       "      <td>female</td>\n",
       "      <td>26.0</td>\n",
       "      <td>0</td>\n",
       "      <td>0</td>\n",
       "      <td>STON/O2. 3101282</td>\n",
       "      <td>7.9250</td>\n",
       "      <td>S</td>\n",
       "    </tr>\n",
       "    <tr>\n",
       "      <th>3</th>\n",
       "      <td>4</td>\n",
       "      <td>1</td>\n",
       "      <td>1</td>\n",
       "      <td>Futrelle, Mrs. Jacques Heath (Lily May Peel)</td>\n",
       "      <td>female</td>\n",
       "      <td>35.0</td>\n",
       "      <td>1</td>\n",
       "      <td>0</td>\n",
       "      <td>113803</td>\n",
       "      <td>53.1000</td>\n",
       "      <td>S</td>\n",
       "    </tr>\n",
       "    <tr>\n",
       "      <th>4</th>\n",
       "      <td>5</td>\n",
       "      <td>0</td>\n",
       "      <td>3</td>\n",
       "      <td>Allen, Mr. William Henry</td>\n",
       "      <td>male</td>\n",
       "      <td>35.0</td>\n",
       "      <td>0</td>\n",
       "      <td>0</td>\n",
       "      <td>373450</td>\n",
       "      <td>8.0500</td>\n",
       "      <td>S</td>\n",
       "    </tr>\n",
       "  </tbody>\n",
       "</table>\n",
       "</div>"
      ],
      "text/plain": [
       "   PassengerId  Survived  Pclass  \\\n",
       "0            1         0       3   \n",
       "1            2         1       1   \n",
       "2            3         1       3   \n",
       "3            4         1       1   \n",
       "4            5         0       3   \n",
       "\n",
       "                                                Name     Sex   Age  SibSp  \\\n",
       "0                            Braund, Mr. Owen Harris    male  22.0      1   \n",
       "1  Cumings, Mrs. John Bradley (Florence Briggs Th...  female  38.0      1   \n",
       "2                             Heikkinen, Miss. Laina  female  26.0      0   \n",
       "3       Futrelle, Mrs. Jacques Heath (Lily May Peel)  female  35.0      1   \n",
       "4                           Allen, Mr. William Henry    male  35.0      0   \n",
       "\n",
       "   Parch            Ticket     Fare Embarked  \n",
       "0      0         A/5 21171   7.2500        S  \n",
       "1      0          PC 17599  71.2833        C  \n",
       "2      0  STON/O2. 3101282   7.9250        S  \n",
       "3      0            113803  53.1000        S  \n",
       "4      0            373450   8.0500        S  "
      ]
     },
     "execution_count": 165,
     "metadata": {},
     "output_type": "execute_result"
    }
   ],
   "source": [
    "train.head()"
   ]
  },
  {
   "cell_type": "markdown",
   "metadata": {},
   "source": [
    "No longer have Cabin coloumns"
   ]
  },
  {
   "cell_type": "code",
   "execution_count": 166,
   "metadata": {},
   "outputs": [],
   "source": [
    "train.dropna(inplace=True)"
   ]
  },
  {
   "cell_type": "code",
   "execution_count": 167,
   "metadata": {},
   "outputs": [
    {
     "data": {
      "text/plain": [
       "<matplotlib.axes._subplots.AxesSubplot at 0x263d5d0f390>"
      ]
     },
     "execution_count": 167,
     "metadata": {},
     "output_type": "execute_result"
    },
    {
     "data": {
      "image/png": "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\n",
      "text/plain": [
       "<Figure size 432x288 with 1 Axes>"
      ]
     },
     "metadata": {},
     "output_type": "display_data"
    }
   ],
   "source": [
    "sns.heatmap(train.isnull(),yticklabels=False,cbar=False,cmap='viridis')"
   ]
  },
  {
   "cell_type": "markdown",
   "metadata": {},
   "source": [
    "No more missing values"
   ]
  },
  {
   "cell_type": "markdown",
   "metadata": {},
   "source": [
    "# Categorical features"
   ]
  },
  {
   "cell_type": "markdown",
   "metadata": {},
   "source": [
    "Now we need to do is deal of categorical features we'll need to convert categorical features into what\n",
    "is known as a dummy variable\n",
    "\n",
    "Otherwise our machine learning algorithm won't be able to directly take in those features as inputs\n",
    "And what I mean by that is something like this.\n",
    "\n",
    "If you see the sex column here we have a categorical feature of male or female.\n",
    "A machine learning algorithm isn't going to be able to take in just a string of male or female will \n",
    "have to create a new column in the train dataset a zero or one value for if someone is male or not in order to\n",
    "encode that information in a way that a machine learning algorithm can understand it.\n",
    "\n",
    "And this is known as creating a dummy variable it will be a similar thing for something like the embarked\n",
    "column.\n",
    "\n",
    "The Embarq column here is just a letter representing a city and again a machine learning algorithm can't\n",
    "just take that letter and immediately know what to do with it.\n",
    "\n",
    "They'll need something in a dummy variable format which is going to indicate a zero or one value with\n",
    "a column as a actual value for the city."
   ]
  },
  {
   "cell_type": "code",
   "execution_count": 168,
   "metadata": {},
   "outputs": [
    {
     "data": {
      "text/html": [
       "<div>\n",
       "<style scoped>\n",
       "    .dataframe tbody tr th:only-of-type {\n",
       "        vertical-align: middle;\n",
       "    }\n",
       "\n",
       "    .dataframe tbody tr th {\n",
       "        vertical-align: top;\n",
       "    }\n",
       "\n",
       "    .dataframe thead th {\n",
       "        text-align: right;\n",
       "    }\n",
       "</style>\n",
       "<table border=\"1\" class=\"dataframe\">\n",
       "  <thead>\n",
       "    <tr style=\"text-align: right;\">\n",
       "      <th></th>\n",
       "      <th>female</th>\n",
       "      <th>male</th>\n",
       "    </tr>\n",
       "  </thead>\n",
       "  <tbody>\n",
       "    <tr>\n",
       "      <th>0</th>\n",
       "      <td>0</td>\n",
       "      <td>1</td>\n",
       "    </tr>\n",
       "    <tr>\n",
       "      <th>1</th>\n",
       "      <td>1</td>\n",
       "      <td>0</td>\n",
       "    </tr>\n",
       "    <tr>\n",
       "      <th>2</th>\n",
       "      <td>1</td>\n",
       "      <td>0</td>\n",
       "    </tr>\n",
       "    <tr>\n",
       "      <th>3</th>\n",
       "      <td>1</td>\n",
       "      <td>0</td>\n",
       "    </tr>\n",
       "    <tr>\n",
       "      <th>4</th>\n",
       "      <td>0</td>\n",
       "      <td>1</td>\n",
       "    </tr>\n",
       "  </tbody>\n",
       "</table>\n",
       "</div>"
      ],
      "text/plain": [
       "   female  male\n",
       "0       0     1\n",
       "1       1     0\n",
       "2       1     0\n",
       "3       1     0\n",
       "4       0     1"
      ]
     },
     "execution_count": 168,
     "metadata": {},
     "output_type": "execute_result"
    }
   ],
   "source": [
    "pd.get_dummies(train['Sex']).head(5)"
   ]
  },
  {
   "cell_type": "markdown",
   "metadata": {},
   "source": [
    "Now there's one slight issue of this in that one column here is a perfect predictor of the other column meaning if our machine learning algorithm gets fed both columns the machine learning algorithm will immediately know that hey if it's zero female I can predict perfectly that it's going to be one male and this is going to be an issue known as multi-collinearity and it basically will mess up the algorithm because a bunch of calls will be perfect predictors of a another column in order to avoid this.\n",
    "\n",
    "What you do is as another argument here you go ahead and say drop first equals true"
   ]
  },
  {
   "cell_type": "code",
   "execution_count": 169,
   "metadata": {},
   "outputs": [],
   "source": [
    "sex=pd.get_dummies(train['Sex'],drop_first=True)"
   ]
  },
  {
   "cell_type": "code",
   "execution_count": 170,
   "metadata": {},
   "outputs": [
    {
     "data": {
      "text/html": [
       "<div>\n",
       "<style scoped>\n",
       "    .dataframe tbody tr th:only-of-type {\n",
       "        vertical-align: middle;\n",
       "    }\n",
       "\n",
       "    .dataframe tbody tr th {\n",
       "        vertical-align: top;\n",
       "    }\n",
       "\n",
       "    .dataframe thead th {\n",
       "        text-align: right;\n",
       "    }\n",
       "</style>\n",
       "<table border=\"1\" class=\"dataframe\">\n",
       "  <thead>\n",
       "    <tr style=\"text-align: right;\">\n",
       "      <th></th>\n",
       "      <th>male</th>\n",
       "    </tr>\n",
       "  </thead>\n",
       "  <tbody>\n",
       "    <tr>\n",
       "      <th>0</th>\n",
       "      <td>1</td>\n",
       "    </tr>\n",
       "    <tr>\n",
       "      <th>1</th>\n",
       "      <td>0</td>\n",
       "    </tr>\n",
       "    <tr>\n",
       "      <th>2</th>\n",
       "      <td>0</td>\n",
       "    </tr>\n",
       "    <tr>\n",
       "      <th>3</th>\n",
       "      <td>0</td>\n",
       "    </tr>\n",
       "    <tr>\n",
       "      <th>4</th>\n",
       "      <td>1</td>\n",
       "    </tr>\n",
       "  </tbody>\n",
       "</table>\n",
       "</div>"
      ],
      "text/plain": [
       "   male\n",
       "0     1\n",
       "1     0\n",
       "2     0\n",
       "3     0\n",
       "4     1"
      ]
     },
     "execution_count": 170,
     "metadata": {},
     "output_type": "execute_result"
    }
   ],
   "source": [
    "sex.head(5)"
   ]
  },
  {
   "cell_type": "markdown",
   "metadata": {},
   "source": [
    "Now we gonna do same thing with embark coloumn "
   ]
  },
  {
   "cell_type": "code",
   "execution_count": 171,
   "metadata": {},
   "outputs": [],
   "source": [
    "embark=pd.get_dummies(train['Embarked'],drop_first=True)"
   ]
  },
  {
   "cell_type": "code",
   "execution_count": 172,
   "metadata": {},
   "outputs": [
    {
     "data": {
      "text/html": [
       "<div>\n",
       "<style scoped>\n",
       "    .dataframe tbody tr th:only-of-type {\n",
       "        vertical-align: middle;\n",
       "    }\n",
       "\n",
       "    .dataframe tbody tr th {\n",
       "        vertical-align: top;\n",
       "    }\n",
       "\n",
       "    .dataframe thead th {\n",
       "        text-align: right;\n",
       "    }\n",
       "</style>\n",
       "<table border=\"1\" class=\"dataframe\">\n",
       "  <thead>\n",
       "    <tr style=\"text-align: right;\">\n",
       "      <th></th>\n",
       "      <th>Q</th>\n",
       "      <th>S</th>\n",
       "    </tr>\n",
       "  </thead>\n",
       "  <tbody>\n",
       "    <tr>\n",
       "      <th>0</th>\n",
       "      <td>0</td>\n",
       "      <td>1</td>\n",
       "    </tr>\n",
       "    <tr>\n",
       "      <th>1</th>\n",
       "      <td>0</td>\n",
       "      <td>0</td>\n",
       "    </tr>\n",
       "    <tr>\n",
       "      <th>2</th>\n",
       "      <td>0</td>\n",
       "      <td>1</td>\n",
       "    </tr>\n",
       "    <tr>\n",
       "      <th>3</th>\n",
       "      <td>0</td>\n",
       "      <td>1</td>\n",
       "    </tr>\n",
       "    <tr>\n",
       "      <th>4</th>\n",
       "      <td>0</td>\n",
       "      <td>1</td>\n",
       "    </tr>\n",
       "  </tbody>\n",
       "</table>\n",
       "</div>"
      ],
      "text/plain": [
       "   Q  S\n",
       "0  0  1\n",
       "1  0  0\n",
       "2  0  1\n",
       "3  0  1\n",
       "4  0  1"
      ]
     },
     "execution_count": 172,
     "metadata": {},
     "output_type": "execute_result"
    }
   ],
   "source": [
    "embark.head(5)"
   ]
  },
  {
   "cell_type": "markdown",
   "metadata": {},
   "source": [
    "Now we are going to add these new coloumns *Sex* and *Emabrk* to our dataframe"
   ]
  },
  {
   "cell_type": "code",
   "execution_count": 173,
   "metadata": {},
   "outputs": [],
   "source": [
    "train=pd.concat([train,sex,embark],axis=1)"
   ]
  },
  {
   "cell_type": "code",
   "execution_count": 174,
   "metadata": {},
   "outputs": [
    {
     "data": {
      "text/html": [
       "<div>\n",
       "<style scoped>\n",
       "    .dataframe tbody tr th:only-of-type {\n",
       "        vertical-align: middle;\n",
       "    }\n",
       "\n",
       "    .dataframe tbody tr th {\n",
       "        vertical-align: top;\n",
       "    }\n",
       "\n",
       "    .dataframe thead th {\n",
       "        text-align: right;\n",
       "    }\n",
       "</style>\n",
       "<table border=\"1\" class=\"dataframe\">\n",
       "  <thead>\n",
       "    <tr style=\"text-align: right;\">\n",
       "      <th></th>\n",
       "      <th>PassengerId</th>\n",
       "      <th>Survived</th>\n",
       "      <th>Pclass</th>\n",
       "      <th>Name</th>\n",
       "      <th>Sex</th>\n",
       "      <th>Age</th>\n",
       "      <th>SibSp</th>\n",
       "      <th>Parch</th>\n",
       "      <th>Ticket</th>\n",
       "      <th>Fare</th>\n",
       "      <th>Embarked</th>\n",
       "      <th>male</th>\n",
       "      <th>Q</th>\n",
       "      <th>S</th>\n",
       "    </tr>\n",
       "  </thead>\n",
       "  <tbody>\n",
       "    <tr>\n",
       "      <th>0</th>\n",
       "      <td>1</td>\n",
       "      <td>0</td>\n",
       "      <td>3</td>\n",
       "      <td>Braund, Mr. Owen Harris</td>\n",
       "      <td>male</td>\n",
       "      <td>22.0</td>\n",
       "      <td>1</td>\n",
       "      <td>0</td>\n",
       "      <td>A/5 21171</td>\n",
       "      <td>7.2500</td>\n",
       "      <td>S</td>\n",
       "      <td>1</td>\n",
       "      <td>0</td>\n",
       "      <td>1</td>\n",
       "    </tr>\n",
       "    <tr>\n",
       "      <th>1</th>\n",
       "      <td>2</td>\n",
       "      <td>1</td>\n",
       "      <td>1</td>\n",
       "      <td>Cumings, Mrs. John Bradley (Florence Briggs Th...</td>\n",
       "      <td>female</td>\n",
       "      <td>38.0</td>\n",
       "      <td>1</td>\n",
       "      <td>0</td>\n",
       "      <td>PC 17599</td>\n",
       "      <td>71.2833</td>\n",
       "      <td>C</td>\n",
       "      <td>0</td>\n",
       "      <td>0</td>\n",
       "      <td>0</td>\n",
       "    </tr>\n",
       "    <tr>\n",
       "      <th>2</th>\n",
       "      <td>3</td>\n",
       "      <td>1</td>\n",
       "      <td>3</td>\n",
       "      <td>Heikkinen, Miss. Laina</td>\n",
       "      <td>female</td>\n",
       "      <td>26.0</td>\n",
       "      <td>0</td>\n",
       "      <td>0</td>\n",
       "      <td>STON/O2. 3101282</td>\n",
       "      <td>7.9250</td>\n",
       "      <td>S</td>\n",
       "      <td>0</td>\n",
       "      <td>0</td>\n",
       "      <td>1</td>\n",
       "    </tr>\n",
       "    <tr>\n",
       "      <th>3</th>\n",
       "      <td>4</td>\n",
       "      <td>1</td>\n",
       "      <td>1</td>\n",
       "      <td>Futrelle, Mrs. Jacques Heath (Lily May Peel)</td>\n",
       "      <td>female</td>\n",
       "      <td>35.0</td>\n",
       "      <td>1</td>\n",
       "      <td>0</td>\n",
       "      <td>113803</td>\n",
       "      <td>53.1000</td>\n",
       "      <td>S</td>\n",
       "      <td>0</td>\n",
       "      <td>0</td>\n",
       "      <td>1</td>\n",
       "    </tr>\n",
       "    <tr>\n",
       "      <th>4</th>\n",
       "      <td>5</td>\n",
       "      <td>0</td>\n",
       "      <td>3</td>\n",
       "      <td>Allen, Mr. William Henry</td>\n",
       "      <td>male</td>\n",
       "      <td>35.0</td>\n",
       "      <td>0</td>\n",
       "      <td>0</td>\n",
       "      <td>373450</td>\n",
       "      <td>8.0500</td>\n",
       "      <td>S</td>\n",
       "      <td>1</td>\n",
       "      <td>0</td>\n",
       "      <td>1</td>\n",
       "    </tr>\n",
       "  </tbody>\n",
       "</table>\n",
       "</div>"
      ],
      "text/plain": [
       "   PassengerId  Survived  Pclass  \\\n",
       "0            1         0       3   \n",
       "1            2         1       1   \n",
       "2            3         1       3   \n",
       "3            4         1       1   \n",
       "4            5         0       3   \n",
       "\n",
       "                                                Name     Sex   Age  SibSp  \\\n",
       "0                            Braund, Mr. Owen Harris    male  22.0      1   \n",
       "1  Cumings, Mrs. John Bradley (Florence Briggs Th...  female  38.0      1   \n",
       "2                             Heikkinen, Miss. Laina  female  26.0      0   \n",
       "3       Futrelle, Mrs. Jacques Heath (Lily May Peel)  female  35.0      1   \n",
       "4                           Allen, Mr. William Henry    male  35.0      0   \n",
       "\n",
       "   Parch            Ticket     Fare Embarked  male  Q  S  \n",
       "0      0         A/5 21171   7.2500        S     1  0  1  \n",
       "1      0          PC 17599  71.2833        C     0  0  0  \n",
       "2      0  STON/O2. 3101282   7.9250        S     0  0  1  \n",
       "3      0            113803  53.1000        S     0  0  1  \n",
       "4      0            373450   8.0500        S     1  0  1  "
      ]
     },
     "execution_count": 174,
     "metadata": {},
     "output_type": "execute_result"
    }
   ],
   "source": [
    "train.head()"
   ]
  },
  {
   "cell_type": "markdown",
   "metadata": {},
   "source": [
    "Drop the coloumns that we are not gonna be used "
   ]
  },
  {
   "cell_type": "code",
   "execution_count": 175,
   "metadata": {},
   "outputs": [],
   "source": [
    "train.drop(['Sex','Embarked','Name','Ticket'],axis=1,inplace=True)"
   ]
  },
  {
   "cell_type": "code",
   "execution_count": 176,
   "metadata": {},
   "outputs": [
    {
     "data": {
      "text/html": [
       "<div>\n",
       "<style scoped>\n",
       "    .dataframe tbody tr th:only-of-type {\n",
       "        vertical-align: middle;\n",
       "    }\n",
       "\n",
       "    .dataframe tbody tr th {\n",
       "        vertical-align: top;\n",
       "    }\n",
       "\n",
       "    .dataframe thead th {\n",
       "        text-align: right;\n",
       "    }\n",
       "</style>\n",
       "<table border=\"1\" class=\"dataframe\">\n",
       "  <thead>\n",
       "    <tr style=\"text-align: right;\">\n",
       "      <th></th>\n",
       "      <th>PassengerId</th>\n",
       "      <th>Survived</th>\n",
       "      <th>Pclass</th>\n",
       "      <th>Age</th>\n",
       "      <th>SibSp</th>\n",
       "      <th>Parch</th>\n",
       "      <th>Fare</th>\n",
       "      <th>male</th>\n",
       "      <th>Q</th>\n",
       "      <th>S</th>\n",
       "    </tr>\n",
       "  </thead>\n",
       "  <tbody>\n",
       "    <tr>\n",
       "      <th>0</th>\n",
       "      <td>1</td>\n",
       "      <td>0</td>\n",
       "      <td>3</td>\n",
       "      <td>22.0</td>\n",
       "      <td>1</td>\n",
       "      <td>0</td>\n",
       "      <td>7.2500</td>\n",
       "      <td>1</td>\n",
       "      <td>0</td>\n",
       "      <td>1</td>\n",
       "    </tr>\n",
       "    <tr>\n",
       "      <th>1</th>\n",
       "      <td>2</td>\n",
       "      <td>1</td>\n",
       "      <td>1</td>\n",
       "      <td>38.0</td>\n",
       "      <td>1</td>\n",
       "      <td>0</td>\n",
       "      <td>71.2833</td>\n",
       "      <td>0</td>\n",
       "      <td>0</td>\n",
       "      <td>0</td>\n",
       "    </tr>\n",
       "    <tr>\n",
       "      <th>2</th>\n",
       "      <td>3</td>\n",
       "      <td>1</td>\n",
       "      <td>3</td>\n",
       "      <td>26.0</td>\n",
       "      <td>0</td>\n",
       "      <td>0</td>\n",
       "      <td>7.9250</td>\n",
       "      <td>0</td>\n",
       "      <td>0</td>\n",
       "      <td>1</td>\n",
       "    </tr>\n",
       "    <tr>\n",
       "      <th>3</th>\n",
       "      <td>4</td>\n",
       "      <td>1</td>\n",
       "      <td>1</td>\n",
       "      <td>35.0</td>\n",
       "      <td>1</td>\n",
       "      <td>0</td>\n",
       "      <td>53.1000</td>\n",
       "      <td>0</td>\n",
       "      <td>0</td>\n",
       "      <td>1</td>\n",
       "    </tr>\n",
       "    <tr>\n",
       "      <th>4</th>\n",
       "      <td>5</td>\n",
       "      <td>0</td>\n",
       "      <td>3</td>\n",
       "      <td>35.0</td>\n",
       "      <td>0</td>\n",
       "      <td>0</td>\n",
       "      <td>8.0500</td>\n",
       "      <td>1</td>\n",
       "      <td>0</td>\n",
       "      <td>1</td>\n",
       "    </tr>\n",
       "  </tbody>\n",
       "</table>\n",
       "</div>"
      ],
      "text/plain": [
       "   PassengerId  Survived  Pclass   Age  SibSp  Parch     Fare  male  Q  S\n",
       "0            1         0       3  22.0      1      0   7.2500     1  0  1\n",
       "1            2         1       1  38.0      1      0  71.2833     0  0  0\n",
       "2            3         1       3  26.0      0      0   7.9250     0  0  1\n",
       "3            4         1       1  35.0      1      0  53.1000     0  0  1\n",
       "4            5         0       3  35.0      0      0   8.0500     1  0  1"
      ]
     },
     "execution_count": 176,
     "metadata": {},
     "output_type": "execute_result"
    }
   ],
   "source": [
    "train.head(5)"
   ]
  },
  {
   "cell_type": "code",
   "execution_count": null,
   "metadata": {},
   "outputs": [],
   "source": []
  },
  {
   "cell_type": "code",
   "execution_count": 177,
   "metadata": {},
   "outputs": [
    {
     "data": {
      "text/html": [
       "<div>\n",
       "<style scoped>\n",
       "    .dataframe tbody tr th:only-of-type {\n",
       "        vertical-align: middle;\n",
       "    }\n",
       "\n",
       "    .dataframe tbody tr th {\n",
       "        vertical-align: top;\n",
       "    }\n",
       "\n",
       "    .dataframe thead th {\n",
       "        text-align: right;\n",
       "    }\n",
       "</style>\n",
       "<table border=\"1\" class=\"dataframe\">\n",
       "  <thead>\n",
       "    <tr style=\"text-align: right;\">\n",
       "      <th></th>\n",
       "      <th>PassengerId</th>\n",
       "      <th>Survived</th>\n",
       "      <th>Pclass</th>\n",
       "      <th>Age</th>\n",
       "      <th>SibSp</th>\n",
       "      <th>Parch</th>\n",
       "      <th>Fare</th>\n",
       "      <th>male</th>\n",
       "      <th>Q</th>\n",
       "      <th>S</th>\n",
       "    </tr>\n",
       "  </thead>\n",
       "  <tbody>\n",
       "    <tr>\n",
       "      <th>0</th>\n",
       "      <td>1</td>\n",
       "      <td>0</td>\n",
       "      <td>3</td>\n",
       "      <td>22.0</td>\n",
       "      <td>1</td>\n",
       "      <td>0</td>\n",
       "      <td>7.2500</td>\n",
       "      <td>1</td>\n",
       "      <td>0</td>\n",
       "      <td>1</td>\n",
       "    </tr>\n",
       "    <tr>\n",
       "      <th>1</th>\n",
       "      <td>2</td>\n",
       "      <td>1</td>\n",
       "      <td>1</td>\n",
       "      <td>38.0</td>\n",
       "      <td>1</td>\n",
       "      <td>0</td>\n",
       "      <td>71.2833</td>\n",
       "      <td>0</td>\n",
       "      <td>0</td>\n",
       "      <td>0</td>\n",
       "    </tr>\n",
       "    <tr>\n",
       "      <th>2</th>\n",
       "      <td>3</td>\n",
       "      <td>1</td>\n",
       "      <td>3</td>\n",
       "      <td>26.0</td>\n",
       "      <td>0</td>\n",
       "      <td>0</td>\n",
       "      <td>7.9250</td>\n",
       "      <td>0</td>\n",
       "      <td>0</td>\n",
       "      <td>1</td>\n",
       "    </tr>\n",
       "    <tr>\n",
       "      <th>3</th>\n",
       "      <td>4</td>\n",
       "      <td>1</td>\n",
       "      <td>1</td>\n",
       "      <td>35.0</td>\n",
       "      <td>1</td>\n",
       "      <td>0</td>\n",
       "      <td>53.1000</td>\n",
       "      <td>0</td>\n",
       "      <td>0</td>\n",
       "      <td>1</td>\n",
       "    </tr>\n",
       "    <tr>\n",
       "      <th>4</th>\n",
       "      <td>5</td>\n",
       "      <td>0</td>\n",
       "      <td>3</td>\n",
       "      <td>35.0</td>\n",
       "      <td>0</td>\n",
       "      <td>0</td>\n",
       "      <td>8.0500</td>\n",
       "      <td>1</td>\n",
       "      <td>0</td>\n",
       "      <td>1</td>\n",
       "    </tr>\n",
       "  </tbody>\n",
       "</table>\n",
       "</div>"
      ],
      "text/plain": [
       "   PassengerId  Survived  Pclass   Age  SibSp  Parch     Fare  male  Q  S\n",
       "0            1         0       3  22.0      1      0   7.2500     1  0  1\n",
       "1            2         1       1  38.0      1      0  71.2833     0  0  0\n",
       "2            3         1       3  26.0      0      0   7.9250     0  0  1\n",
       "3            4         1       1  35.0      1      0  53.1000     0  0  1\n",
       "4            5         0       3  35.0      0      0   8.0500     1  0  1"
      ]
     },
     "execution_count": 177,
     "metadata": {},
     "output_type": "execute_result"
    }
   ],
   "source": [
    "train.head(5)"
   ]
  },
  {
   "cell_type": "markdown",
   "metadata": {},
   "source": [
    "# Building a Logistic Regression model\n"
   ]
  },
  {
   "cell_type": "markdown",
   "metadata": {},
   "source": [
    "Let's start by splitting our data into a training set and test set (there is another test.csv file that you can play around with in case you want to use all this data for training)"
   ]
  },
  {
   "cell_type": "markdown",
   "metadata": {},
   "source": [
    "# Train Test Split"
   ]
  },
  {
   "cell_type": "code",
   "execution_count": 178,
   "metadata": {},
   "outputs": [],
   "source": [
    "from sklearn.model_selection import train_test_split"
   ]
  },
  {
   "cell_type": "code",
   "execution_count": 179,
   "metadata": {},
   "outputs": [],
   "source": [
    "X_train, X_test, y_train, y_test = train_test_split(train.drop(['Survived'],axis=1),train['Survived'], test_size=0.10,random_state=101)"
   ]
  },
  {
   "cell_type": "markdown",
   "metadata": {},
   "source": [
    "# Training and Predicting"
   ]
  },
  {
   "cell_type": "code",
   "execution_count": 180,
   "metadata": {},
   "outputs": [],
   "source": [
    "from sklearn.linear_model import LogisticRegression"
   ]
  },
  {
   "cell_type": "code",
   "execution_count": 181,
   "metadata": {},
   "outputs": [
    {
     "name": "stderr",
     "output_type": "stream",
     "text": [
      "C:\\Users\\Sajid Alam\\Anaconda3\\lib\\site-packages\\sklearn\\linear_model\\logistic.py:433: FutureWarning:\n",
      "\n",
      "Default solver will be changed to 'lbfgs' in 0.22. Specify a solver to silence this warning.\n",
      "\n"
     ]
    },
    {
     "data": {
      "text/plain": [
       "LogisticRegression(C=1.0, class_weight=None, dual=False, fit_intercept=True,\n",
       "          intercept_scaling=1, max_iter=100, multi_class='warn',\n",
       "          n_jobs=None, penalty='l2', random_state=None, solver='warn',\n",
       "          tol=0.0001, verbose=0, warm_start=False)"
      ]
     },
     "execution_count": 181,
     "metadata": {},
     "output_type": "execute_result"
    }
   ],
   "source": [
    "logmodel = LogisticRegression()\n",
    "logmodel.fit(X_train,y_train)"
   ]
  },
  {
   "cell_type": "code",
   "execution_count": 182,
   "metadata": {},
   "outputs": [
    {
     "data": {
      "text/html": [
       "<div>\n",
       "<style scoped>\n",
       "    .dataframe tbody tr th:only-of-type {\n",
       "        vertical-align: middle;\n",
       "    }\n",
       "\n",
       "    .dataframe tbody tr th {\n",
       "        vertical-align: top;\n",
       "    }\n",
       "\n",
       "    .dataframe thead th {\n",
       "        text-align: right;\n",
       "    }\n",
       "</style>\n",
       "<table border=\"1\" class=\"dataframe\">\n",
       "  <thead>\n",
       "    <tr style=\"text-align: right;\">\n",
       "      <th></th>\n",
       "      <th>PassengerId</th>\n",
       "      <th>Pclass</th>\n",
       "      <th>Age</th>\n",
       "      <th>SibSp</th>\n",
       "      <th>Parch</th>\n",
       "      <th>Fare</th>\n",
       "      <th>male</th>\n",
       "      <th>Q</th>\n",
       "      <th>S</th>\n",
       "    </tr>\n",
       "  </thead>\n",
       "  <tbody>\n",
       "    <tr>\n",
       "      <th>511</th>\n",
       "      <td>512</td>\n",
       "      <td>3</td>\n",
       "      <td>24.0</td>\n",
       "      <td>0</td>\n",
       "      <td>0</td>\n",
       "      <td>8.05</td>\n",
       "      <td>1</td>\n",
       "      <td>0</td>\n",
       "      <td>1</td>\n",
       "    </tr>\n",
       "    <tr>\n",
       "      <th>613</th>\n",
       "      <td>614</td>\n",
       "      <td>3</td>\n",
       "      <td>24.0</td>\n",
       "      <td>0</td>\n",
       "      <td>0</td>\n",
       "      <td>7.75</td>\n",
       "      <td>1</td>\n",
       "      <td>1</td>\n",
       "      <td>0</td>\n",
       "    </tr>\n",
       "    <tr>\n",
       "      <th>615</th>\n",
       "      <td>616</td>\n",
       "      <td>2</td>\n",
       "      <td>24.0</td>\n",
       "      <td>1</td>\n",
       "      <td>2</td>\n",
       "      <td>65.00</td>\n",
       "      <td>0</td>\n",
       "      <td>0</td>\n",
       "      <td>1</td>\n",
       "    </tr>\n",
       "    <tr>\n",
       "      <th>337</th>\n",
       "      <td>338</td>\n",
       "      <td>1</td>\n",
       "      <td>41.0</td>\n",
       "      <td>0</td>\n",
       "      <td>0</td>\n",
       "      <td>134.50</td>\n",
       "      <td>0</td>\n",
       "      <td>0</td>\n",
       "      <td>0</td>\n",
       "    </tr>\n",
       "    <tr>\n",
       "      <th>718</th>\n",
       "      <td>719</td>\n",
       "      <td>3</td>\n",
       "      <td>24.0</td>\n",
       "      <td>0</td>\n",
       "      <td>0</td>\n",
       "      <td>15.50</td>\n",
       "      <td>1</td>\n",
       "      <td>1</td>\n",
       "      <td>0</td>\n",
       "    </tr>\n",
       "  </tbody>\n",
       "</table>\n",
       "</div>"
      ],
      "text/plain": [
       "     PassengerId  Pclass   Age  SibSp  Parch    Fare  male  Q  S\n",
       "511          512       3  24.0      0      0    8.05     1  0  1\n",
       "613          614       3  24.0      0      0    7.75     1  1  0\n",
       "615          616       2  24.0      1      2   65.00     0  0  1\n",
       "337          338       1  41.0      0      0  134.50     0  0  0\n",
       "718          719       3  24.0      0      0   15.50     1  1  0"
      ]
     },
     "execution_count": 182,
     "metadata": {},
     "output_type": "execute_result"
    }
   ],
   "source": [
    "predictions = logmodel.predict(X_test)\n",
    "X_test.head()"
   ]
  },
  {
   "cell_type": "code",
   "execution_count": 183,
   "metadata": {},
   "outputs": [
    {
     "data": {
      "text/plain": [
       "array([0, 0, 1, 1, 0, 0, 0, 0, 0, 1, 1, 1, 0, 1, 0, 0, 1, 1, 1, 0, 0, 0,\n",
       "       0, 0, 0, 0, 1, 1, 0, 0, 0, 0, 0, 0, 0, 0, 1, 0, 0, 0, 1, 0, 0, 1,\n",
       "       1, 0, 1, 1, 0, 0, 0, 1, 0, 0, 0, 0, 0, 0, 0, 1, 1, 1, 1, 0, 0, 0,\n",
       "       0, 0, 0, 0, 0, 0, 1, 1, 0, 1, 0, 0, 0, 0, 0, 0, 0, 0, 0, 1, 0, 1,\n",
       "       0], dtype=int64)"
      ]
     },
     "execution_count": 183,
     "metadata": {},
     "output_type": "execute_result"
    }
   ],
   "source": [
    "predictions"
   ]
  },
  {
   "cell_type": "markdown",
   "metadata": {},
   "source": [
    "# Evaluation"
   ]
  },
  {
   "cell_type": "markdown",
   "metadata": {},
   "source": [
    "We can check precision,recall,f1-score using classification report!\n",
    "\n"
   ]
  },
  {
   "cell_type": "code",
   "execution_count": 184,
   "metadata": {},
   "outputs": [],
   "source": [
    "from sklearn.metrics import classification_report,confusion_matrix"
   ]
  },
  {
   "cell_type": "code",
   "execution_count": 185,
   "metadata": {},
   "outputs": [
    {
     "name": "stdout",
     "output_type": "stream",
     "text": [
      "[[52  5]\n",
      " [10 22]]\n"
     ]
    }
   ],
   "source": [
    "print(confusion_matrix(y_test,predictions))"
   ]
  },
  {
   "cell_type": "code",
   "execution_count": 186,
   "metadata": {},
   "outputs": [
    {
     "name": "stdout",
     "output_type": "stream",
     "text": [
      "              precision    recall  f1-score   support\n",
      "\n",
      "           0       0.84      0.91      0.87        57\n",
      "           1       0.81      0.69      0.75        32\n",
      "\n",
      "   micro avg       0.83      0.83      0.83        89\n",
      "   macro avg       0.83      0.80      0.81        89\n",
      "weighted avg       0.83      0.83      0.83        89\n",
      "\n"
     ]
    }
   ],
   "source": [
    "print(classification_report(y_test,predictions))\n"
   ]
  },
  {
   "cell_type": "markdown",
   "metadata": {},
   "source": [
    "# ANN"
   ]
  },
  {
   "cell_type": "code",
   "execution_count": 187,
   "metadata": {},
   "outputs": [],
   "source": [
    "import keras \n",
    "from keras.layers import Dense\n",
    "from keras.models import Sequential"
   ]
  },
  {
   "cell_type": "code",
   "execution_count": 212,
   "metadata": {},
   "outputs": [
    {
     "name": "stderr",
     "output_type": "stream",
     "text": [
      "C:\\Users\\Sajid Alam\\Anaconda3\\lib\\site-packages\\ipykernel_launcher.py:2: UserWarning:\n",
      "\n",
      "Update your `Dense` call to the Keras 2 API: `Dense(units=32, activation=\"relu\", input_dim=9, kernel_initializer=\"uniform\")`\n",
      "\n",
      "C:\\Users\\Sajid Alam\\Anaconda3\\lib\\site-packages\\ipykernel_launcher.py:3: UserWarning:\n",
      "\n",
      "Update your `Dense` call to the Keras 2 API: `Dense(units=32, activation=\"relu\", kernel_initializer=\"uniform\")`\n",
      "\n",
      "C:\\Users\\Sajid Alam\\Anaconda3\\lib\\site-packages\\ipykernel_launcher.py:4: UserWarning:\n",
      "\n",
      "Update your `Dense` call to the Keras 2 API: `Dense(units=1, activation=\"sigmoid\", kernel_initializer=\"uniform\")`\n",
      "\n"
     ]
    }
   ],
   "source": [
    "ann  = Sequential()\n",
    "ann.add(Dense(units= 32,init= 'uniform', activation = 'relu', input_dim=9))\n",
    "ann.add(Dense(units= 32,init= 'uniform', activation = 'relu'))\n",
    "ann.add(Dense(units= 1,init= 'uniform', activation = 'sigmoid'))\n",
    "ann.compile(optimizer='adam',loss='mean_squared_error', metrics=['accuracy'])"
   ]
  },
  {
   "cell_type": "code",
   "execution_count": 213,
   "metadata": {},
   "outputs": [
    {
     "name": "stderr",
     "output_type": "stream",
     "text": [
      "C:\\Users\\Sajid Alam\\Anaconda3\\lib\\site-packages\\ipykernel_launcher.py:1: UserWarning:\n",
      "\n",
      "The `nb_epoch` argument in `fit` has been renamed `epochs`.\n",
      "\n"
     ]
    },
    {
     "data": {
      "text/plain": [
       "<keras.callbacks.callbacks.History at 0x263d5d47208>"
      ]
     },
     "execution_count": 213,
     "metadata": {},
     "output_type": "execute_result"
    }
   ],
   "source": [
    "ann.fit(X_train,y_train, batch_size=32, nb_epoch=300,verbose= 0)"
   ]
  },
  {
   "cell_type": "code",
   "execution_count": 214,
   "metadata": {},
   "outputs": [
    {
     "name": "stdout",
     "output_type": "stream",
     "text": [
      "[0, 0, 1, 1, 0, 0, 1, 0, 0, 1, 1, 1, 0, 0, 0, 0, 1, 1, 1, 0, 0, 0, 0, 0, 0, 1, 0, 1, 0, 0, 0, 0, 0, 0, 0, 0, 1, 0, 0, 0, 0, 0, 0, 1, 1, 0, 0, 1, 0, 0, 1, 1, 0, 0, 0, 0, 1, 0, 0, 1, 1, 1, 1, 0, 0, 0, 0, 0, 0, 0, 0, 0, 0, 1, 0, 1, 0, 0, 0, 1, 0, 1, 1, 0, 0, 1, 0, 1, 0]\n"
     ]
    }
   ],
   "source": [
    "ann_pred = ann.predict(X_test)\n",
    "ann_pred = [ 1 if y>=0.5 else 0 for y in ann_pred]\n",
    "print(ann_pred)"
   ]
  },
  {
   "cell_type": "code",
   "execution_count": 215,
   "metadata": {},
   "outputs": [
    {
     "name": "stdout",
     "output_type": "stream",
     "text": [
      "[[50  7]\n",
      " [10 22]]\n"
     ]
    }
   ],
   "source": [
    "print(confusion_matrix(y_test,ann_pred))"
   ]
  },
  {
   "cell_type": "code",
   "execution_count": null,
   "metadata": {},
   "outputs": [],
   "source": []
  },
  {
   "cell_type": "code",
   "execution_count": 216,
   "metadata": {},
   "outputs": [
    {
     "name": "stdout",
     "output_type": "stream",
     "text": [
      "              precision    recall  f1-score   support\n",
      "\n",
      "           0       0.83      0.88      0.85        57\n",
      "           1       0.76      0.69      0.72        32\n",
      "\n",
      "   micro avg       0.81      0.81      0.81        89\n",
      "   macro avg       0.80      0.78      0.79        89\n",
      "weighted avg       0.81      0.81      0.81        89\n",
      "\n"
     ]
    }
   ],
   "source": [
    "print(classification_report(y_test,ann_pred))\n"
   ]
  },
  {
   "cell_type": "markdown",
   "metadata": {},
   "source": [
    "# Now we will use test dataset\n",
    "\n"
   ]
  },
  {
   "cell_type": "code",
   "execution_count": 224,
   "metadata": {},
   "outputs": [],
   "source": [
    "test = pd.read_csv('titanic_test.csv')\n"
   ]
  },
  {
   "cell_type": "code",
   "execution_count": 225,
   "metadata": {},
   "outputs": [
    {
     "data": {
      "text/html": [
       "<div>\n",
       "<style scoped>\n",
       "    .dataframe tbody tr th:only-of-type {\n",
       "        vertical-align: middle;\n",
       "    }\n",
       "\n",
       "    .dataframe tbody tr th {\n",
       "        vertical-align: top;\n",
       "    }\n",
       "\n",
       "    .dataframe thead th {\n",
       "        text-align: right;\n",
       "    }\n",
       "</style>\n",
       "<table border=\"1\" class=\"dataframe\">\n",
       "  <thead>\n",
       "    <tr style=\"text-align: right;\">\n",
       "      <th></th>\n",
       "      <th>PassengerId</th>\n",
       "      <th>Pclass</th>\n",
       "      <th>Name</th>\n",
       "      <th>Sex</th>\n",
       "      <th>Age</th>\n",
       "      <th>SibSp</th>\n",
       "      <th>Parch</th>\n",
       "      <th>Ticket</th>\n",
       "      <th>Fare</th>\n",
       "      <th>Cabin</th>\n",
       "      <th>Embarked</th>\n",
       "    </tr>\n",
       "  </thead>\n",
       "  <tbody>\n",
       "    <tr>\n",
       "      <th>0</th>\n",
       "      <td>892</td>\n",
       "      <td>3</td>\n",
       "      <td>Kelly, Mr. James</td>\n",
       "      <td>male</td>\n",
       "      <td>34.5</td>\n",
       "      <td>0</td>\n",
       "      <td>0</td>\n",
       "      <td>330911</td>\n",
       "      <td>7.8292</td>\n",
       "      <td>NaN</td>\n",
       "      <td>Q</td>\n",
       "    </tr>\n",
       "    <tr>\n",
       "      <th>1</th>\n",
       "      <td>893</td>\n",
       "      <td>3</td>\n",
       "      <td>Wilkes, Mrs. James (Ellen Needs)</td>\n",
       "      <td>female</td>\n",
       "      <td>47.0</td>\n",
       "      <td>1</td>\n",
       "      <td>0</td>\n",
       "      <td>363272</td>\n",
       "      <td>7.0000</td>\n",
       "      <td>NaN</td>\n",
       "      <td>S</td>\n",
       "    </tr>\n",
       "    <tr>\n",
       "      <th>2</th>\n",
       "      <td>894</td>\n",
       "      <td>2</td>\n",
       "      <td>Myles, Mr. Thomas Francis</td>\n",
       "      <td>male</td>\n",
       "      <td>62.0</td>\n",
       "      <td>0</td>\n",
       "      <td>0</td>\n",
       "      <td>240276</td>\n",
       "      <td>9.6875</td>\n",
       "      <td>NaN</td>\n",
       "      <td>Q</td>\n",
       "    </tr>\n",
       "    <tr>\n",
       "      <th>3</th>\n",
       "      <td>895</td>\n",
       "      <td>3</td>\n",
       "      <td>Wirz, Mr. Albert</td>\n",
       "      <td>male</td>\n",
       "      <td>27.0</td>\n",
       "      <td>0</td>\n",
       "      <td>0</td>\n",
       "      <td>315154</td>\n",
       "      <td>8.6625</td>\n",
       "      <td>NaN</td>\n",
       "      <td>S</td>\n",
       "    </tr>\n",
       "    <tr>\n",
       "      <th>4</th>\n",
       "      <td>896</td>\n",
       "      <td>3</td>\n",
       "      <td>Hirvonen, Mrs. Alexander (Helga E Lindqvist)</td>\n",
       "      <td>female</td>\n",
       "      <td>22.0</td>\n",
       "      <td>1</td>\n",
       "      <td>1</td>\n",
       "      <td>3101298</td>\n",
       "      <td>12.2875</td>\n",
       "      <td>NaN</td>\n",
       "      <td>S</td>\n",
       "    </tr>\n",
       "  </tbody>\n",
       "</table>\n",
       "</div>"
      ],
      "text/plain": [
       "   PassengerId  Pclass                                          Name     Sex  \\\n",
       "0          892       3                              Kelly, Mr. James    male   \n",
       "1          893       3              Wilkes, Mrs. James (Ellen Needs)  female   \n",
       "2          894       2                     Myles, Mr. Thomas Francis    male   \n",
       "3          895       3                              Wirz, Mr. Albert    male   \n",
       "4          896       3  Hirvonen, Mrs. Alexander (Helga E Lindqvist)  female   \n",
       "\n",
       "    Age  SibSp  Parch   Ticket     Fare Cabin Embarked  \n",
       "0  34.5      0      0   330911   7.8292   NaN        Q  \n",
       "1  47.0      1      0   363272   7.0000   NaN        S  \n",
       "2  62.0      0      0   240276   9.6875   NaN        Q  \n",
       "3  27.0      0      0   315154   8.6625   NaN        S  \n",
       "4  22.0      1      1  3101298  12.2875   NaN        S  "
      ]
     },
     "execution_count": 225,
     "metadata": {},
     "output_type": "execute_result"
    }
   ],
   "source": [
    "test.head(5)"
   ]
  },
  {
   "cell_type": "code",
   "execution_count": 226,
   "metadata": {},
   "outputs": [
    {
     "data": {
      "text/plain": [
       "<matplotlib.axes._subplots.AxesSubplot at 0x263d7559748>"
      ]
     },
     "execution_count": 226,
     "metadata": {},
     "output_type": "execute_result"
    },
    {
     "data": {
      "image/png": "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\n",
      "text/plain": [
       "<Figure size 432x288 with 1 Axes>"
      ]
     },
     "metadata": {},
     "output_type": "display_data"
    }
   ],
   "source": [
    "sns.heatmap(test.isnull(),cbar=False,cmap='viridis')"
   ]
  },
  {
   "cell_type": "code",
   "execution_count": 227,
   "metadata": {},
   "outputs": [],
   "source": [
    "test.drop('Cabin',axis=1,inplace=True)"
   ]
  },
  {
   "cell_type": "code",
   "execution_count": 228,
   "metadata": {},
   "outputs": [],
   "source": [
    "test['Fare'].fillna(test['Fare'].median(), inplace=True)"
   ]
  },
  {
   "cell_type": "code",
   "execution_count": 229,
   "metadata": {},
   "outputs": [
    {
     "name": "stdout",
     "output_type": "stream",
     "text": [
      "<class 'pandas.core.frame.DataFrame'>\n",
      "RangeIndex: 418 entries, 0 to 417\n",
      "Data columns (total 10 columns):\n",
      "PassengerId    418 non-null int64\n",
      "Pclass         418 non-null int64\n",
      "Name           418 non-null object\n",
      "Sex            418 non-null object\n",
      "Age            332 non-null float64\n",
      "SibSp          418 non-null int64\n",
      "Parch          418 non-null int64\n",
      "Ticket         418 non-null object\n",
      "Fare           418 non-null float64\n",
      "Embarked       418 non-null object\n",
      "dtypes: float64(2), int64(4), object(4)\n",
      "memory usage: 32.7+ KB\n"
     ]
    }
   ],
   "source": [
    "test.info()"
   ]
  },
  {
   "cell_type": "code",
   "execution_count": 230,
   "metadata": {},
   "outputs": [
    {
     "data": {
      "text/html": [
       "<div>\n",
       "<style scoped>\n",
       "    .dataframe tbody tr th:only-of-type {\n",
       "        vertical-align: middle;\n",
       "    }\n",
       "\n",
       "    .dataframe tbody tr th {\n",
       "        vertical-align: top;\n",
       "    }\n",
       "\n",
       "    .dataframe thead th {\n",
       "        text-align: right;\n",
       "    }\n",
       "</style>\n",
       "<table border=\"1\" class=\"dataframe\">\n",
       "  <thead>\n",
       "    <tr style=\"text-align: right;\">\n",
       "      <th></th>\n",
       "      <th>PassengerId</th>\n",
       "      <th>Pclass</th>\n",
       "      <th>Name</th>\n",
       "      <th>Sex</th>\n",
       "      <th>Age</th>\n",
       "      <th>SibSp</th>\n",
       "      <th>Parch</th>\n",
       "      <th>Ticket</th>\n",
       "      <th>Fare</th>\n",
       "      <th>Embarked</th>\n",
       "    </tr>\n",
       "  </thead>\n",
       "  <tbody>\n",
       "    <tr>\n",
       "      <th>0</th>\n",
       "      <td>892</td>\n",
       "      <td>3</td>\n",
       "      <td>Kelly, Mr. James</td>\n",
       "      <td>male</td>\n",
       "      <td>34.5</td>\n",
       "      <td>0</td>\n",
       "      <td>0</td>\n",
       "      <td>330911</td>\n",
       "      <td>7.8292</td>\n",
       "      <td>Q</td>\n",
       "    </tr>\n",
       "    <tr>\n",
       "      <th>1</th>\n",
       "      <td>893</td>\n",
       "      <td>3</td>\n",
       "      <td>Wilkes, Mrs. James (Ellen Needs)</td>\n",
       "      <td>female</td>\n",
       "      <td>47.0</td>\n",
       "      <td>1</td>\n",
       "      <td>0</td>\n",
       "      <td>363272</td>\n",
       "      <td>7.0000</td>\n",
       "      <td>S</td>\n",
       "    </tr>\n",
       "    <tr>\n",
       "      <th>2</th>\n",
       "      <td>894</td>\n",
       "      <td>2</td>\n",
       "      <td>Myles, Mr. Thomas Francis</td>\n",
       "      <td>male</td>\n",
       "      <td>62.0</td>\n",
       "      <td>0</td>\n",
       "      <td>0</td>\n",
       "      <td>240276</td>\n",
       "      <td>9.6875</td>\n",
       "      <td>Q</td>\n",
       "    </tr>\n",
       "    <tr>\n",
       "      <th>3</th>\n",
       "      <td>895</td>\n",
       "      <td>3</td>\n",
       "      <td>Wirz, Mr. Albert</td>\n",
       "      <td>male</td>\n",
       "      <td>27.0</td>\n",
       "      <td>0</td>\n",
       "      <td>0</td>\n",
       "      <td>315154</td>\n",
       "      <td>8.6625</td>\n",
       "      <td>S</td>\n",
       "    </tr>\n",
       "    <tr>\n",
       "      <th>4</th>\n",
       "      <td>896</td>\n",
       "      <td>3</td>\n",
       "      <td>Hirvonen, Mrs. Alexander (Helga E Lindqvist)</td>\n",
       "      <td>female</td>\n",
       "      <td>22.0</td>\n",
       "      <td>1</td>\n",
       "      <td>1</td>\n",
       "      <td>3101298</td>\n",
       "      <td>12.2875</td>\n",
       "      <td>S</td>\n",
       "    </tr>\n",
       "  </tbody>\n",
       "</table>\n",
       "</div>"
      ],
      "text/plain": [
       "   PassengerId  Pclass                                          Name     Sex  \\\n",
       "0          892       3                              Kelly, Mr. James    male   \n",
       "1          893       3              Wilkes, Mrs. James (Ellen Needs)  female   \n",
       "2          894       2                     Myles, Mr. Thomas Francis    male   \n",
       "3          895       3                              Wirz, Mr. Albert    male   \n",
       "4          896       3  Hirvonen, Mrs. Alexander (Helga E Lindqvist)  female   \n",
       "\n",
       "    Age  SibSp  Parch   Ticket     Fare Embarked  \n",
       "0  34.5      0      0   330911   7.8292        Q  \n",
       "1  47.0      1      0   363272   7.0000        S  \n",
       "2  62.0      0      0   240276   9.6875        Q  \n",
       "3  27.0      0      0   315154   8.6625        S  \n",
       "4  22.0      1      1  3101298  12.2875        S  "
      ]
     },
     "execution_count": 230,
     "metadata": {},
     "output_type": "execute_result"
    }
   ],
   "source": [
    "test.head()\n"
   ]
  },
  {
   "cell_type": "code",
   "execution_count": 231,
   "metadata": {},
   "outputs": [],
   "source": [
    "test['Age'] = test[['Age','Pclass']].apply(impute_age,axis=1)"
   ]
  },
  {
   "cell_type": "code",
   "execution_count": 232,
   "metadata": {},
   "outputs": [],
   "source": [
    "sex_test = pd.get_dummies(test['Sex'],drop_first=True)\n",
    "embark_test= pd.get_dummies(test['Embarked'],drop_first=True)"
   ]
  },
  {
   "cell_type": "code",
   "execution_count": 233,
   "metadata": {},
   "outputs": [],
   "source": [
    "test.drop(['Sex','Embarked','Name','Ticket'],axis=1,inplace=True)"
   ]
  },
  {
   "cell_type": "code",
   "execution_count": 234,
   "metadata": {},
   "outputs": [],
   "source": [
    "test = pd.concat([test,sex_test,embark_test],axis=1)"
   ]
  },
  {
   "cell_type": "code",
   "execution_count": 235,
   "metadata": {},
   "outputs": [
    {
     "data": {
      "text/html": [
       "<div>\n",
       "<style scoped>\n",
       "    .dataframe tbody tr th:only-of-type {\n",
       "        vertical-align: middle;\n",
       "    }\n",
       "\n",
       "    .dataframe tbody tr th {\n",
       "        vertical-align: top;\n",
       "    }\n",
       "\n",
       "    .dataframe thead th {\n",
       "        text-align: right;\n",
       "    }\n",
       "</style>\n",
       "<table border=\"1\" class=\"dataframe\">\n",
       "  <thead>\n",
       "    <tr style=\"text-align: right;\">\n",
       "      <th></th>\n",
       "      <th>PassengerId</th>\n",
       "      <th>Pclass</th>\n",
       "      <th>Age</th>\n",
       "      <th>SibSp</th>\n",
       "      <th>Parch</th>\n",
       "      <th>Fare</th>\n",
       "      <th>male</th>\n",
       "      <th>Q</th>\n",
       "      <th>S</th>\n",
       "    </tr>\n",
       "  </thead>\n",
       "  <tbody>\n",
       "    <tr>\n",
       "      <th>0</th>\n",
       "      <td>892</td>\n",
       "      <td>3</td>\n",
       "      <td>34.5</td>\n",
       "      <td>0</td>\n",
       "      <td>0</td>\n",
       "      <td>7.8292</td>\n",
       "      <td>1</td>\n",
       "      <td>1</td>\n",
       "      <td>0</td>\n",
       "    </tr>\n",
       "    <tr>\n",
       "      <th>1</th>\n",
       "      <td>893</td>\n",
       "      <td>3</td>\n",
       "      <td>47.0</td>\n",
       "      <td>1</td>\n",
       "      <td>0</td>\n",
       "      <td>7.0000</td>\n",
       "      <td>0</td>\n",
       "      <td>0</td>\n",
       "      <td>1</td>\n",
       "    </tr>\n",
       "    <tr>\n",
       "      <th>2</th>\n",
       "      <td>894</td>\n",
       "      <td>2</td>\n",
       "      <td>62.0</td>\n",
       "      <td>0</td>\n",
       "      <td>0</td>\n",
       "      <td>9.6875</td>\n",
       "      <td>1</td>\n",
       "      <td>1</td>\n",
       "      <td>0</td>\n",
       "    </tr>\n",
       "    <tr>\n",
       "      <th>3</th>\n",
       "      <td>895</td>\n",
       "      <td>3</td>\n",
       "      <td>27.0</td>\n",
       "      <td>0</td>\n",
       "      <td>0</td>\n",
       "      <td>8.6625</td>\n",
       "      <td>1</td>\n",
       "      <td>0</td>\n",
       "      <td>1</td>\n",
       "    </tr>\n",
       "    <tr>\n",
       "      <th>4</th>\n",
       "      <td>896</td>\n",
       "      <td>3</td>\n",
       "      <td>22.0</td>\n",
       "      <td>1</td>\n",
       "      <td>1</td>\n",
       "      <td>12.2875</td>\n",
       "      <td>0</td>\n",
       "      <td>0</td>\n",
       "      <td>1</td>\n",
       "    </tr>\n",
       "  </tbody>\n",
       "</table>\n",
       "</div>"
      ],
      "text/plain": [
       "   PassengerId  Pclass   Age  SibSp  Parch     Fare  male  Q  S\n",
       "0          892       3  34.5      0      0   7.8292     1  1  0\n",
       "1          893       3  47.0      1      0   7.0000     0  0  1\n",
       "2          894       2  62.0      0      0   9.6875     1  1  0\n",
       "3          895       3  27.0      0      0   8.6625     1  0  1\n",
       "4          896       3  22.0      1      1  12.2875     0  0  1"
      ]
     },
     "execution_count": 235,
     "metadata": {},
     "output_type": "execute_result"
    }
   ],
   "source": [
    "test.head()"
   ]
  },
  {
   "cell_type": "code",
   "execution_count": 236,
   "metadata": {},
   "outputs": [
    {
     "data": {
      "text/html": [
       "<div>\n",
       "<style scoped>\n",
       "    .dataframe tbody tr th:only-of-type {\n",
       "        vertical-align: middle;\n",
       "    }\n",
       "\n",
       "    .dataframe tbody tr th {\n",
       "        vertical-align: top;\n",
       "    }\n",
       "\n",
       "    .dataframe thead th {\n",
       "        text-align: right;\n",
       "    }\n",
       "</style>\n",
       "<table border=\"1\" class=\"dataframe\">\n",
       "  <thead>\n",
       "    <tr style=\"text-align: right;\">\n",
       "      <th></th>\n",
       "      <th>PassengerId</th>\n",
       "      <th>Survived</th>\n",
       "      <th>Pclass</th>\n",
       "      <th>Age</th>\n",
       "      <th>SibSp</th>\n",
       "      <th>Parch</th>\n",
       "      <th>Fare</th>\n",
       "      <th>male</th>\n",
       "      <th>Q</th>\n",
       "      <th>S</th>\n",
       "    </tr>\n",
       "  </thead>\n",
       "  <tbody>\n",
       "    <tr>\n",
       "      <th>0</th>\n",
       "      <td>1</td>\n",
       "      <td>0</td>\n",
       "      <td>3</td>\n",
       "      <td>22.0</td>\n",
       "      <td>1</td>\n",
       "      <td>0</td>\n",
       "      <td>7.2500</td>\n",
       "      <td>1</td>\n",
       "      <td>0</td>\n",
       "      <td>1</td>\n",
       "    </tr>\n",
       "    <tr>\n",
       "      <th>1</th>\n",
       "      <td>2</td>\n",
       "      <td>1</td>\n",
       "      <td>1</td>\n",
       "      <td>38.0</td>\n",
       "      <td>1</td>\n",
       "      <td>0</td>\n",
       "      <td>71.2833</td>\n",
       "      <td>0</td>\n",
       "      <td>0</td>\n",
       "      <td>0</td>\n",
       "    </tr>\n",
       "    <tr>\n",
       "      <th>2</th>\n",
       "      <td>3</td>\n",
       "      <td>1</td>\n",
       "      <td>3</td>\n",
       "      <td>26.0</td>\n",
       "      <td>0</td>\n",
       "      <td>0</td>\n",
       "      <td>7.9250</td>\n",
       "      <td>0</td>\n",
       "      <td>0</td>\n",
       "      <td>1</td>\n",
       "    </tr>\n",
       "    <tr>\n",
       "      <th>3</th>\n",
       "      <td>4</td>\n",
       "      <td>1</td>\n",
       "      <td>1</td>\n",
       "      <td>35.0</td>\n",
       "      <td>1</td>\n",
       "      <td>0</td>\n",
       "      <td>53.1000</td>\n",
       "      <td>0</td>\n",
       "      <td>0</td>\n",
       "      <td>1</td>\n",
       "    </tr>\n",
       "    <tr>\n",
       "      <th>4</th>\n",
       "      <td>5</td>\n",
       "      <td>0</td>\n",
       "      <td>3</td>\n",
       "      <td>35.0</td>\n",
       "      <td>0</td>\n",
       "      <td>0</td>\n",
       "      <td>8.0500</td>\n",
       "      <td>1</td>\n",
       "      <td>0</td>\n",
       "      <td>1</td>\n",
       "    </tr>\n",
       "  </tbody>\n",
       "</table>\n",
       "</div>"
      ],
      "text/plain": [
       "   PassengerId  Survived  Pclass   Age  SibSp  Parch     Fare  male  Q  S\n",
       "0            1         0       3  22.0      1      0   7.2500     1  0  1\n",
       "1            2         1       1  38.0      1      0  71.2833     0  0  0\n",
       "2            3         1       3  26.0      0      0   7.9250     0  0  1\n",
       "3            4         1       1  35.0      1      0  53.1000     0  0  1\n",
       "4            5         0       3  35.0      0      0   8.0500     1  0  1"
      ]
     },
     "execution_count": 236,
     "metadata": {},
     "output_type": "execute_result"
    }
   ],
   "source": [
    "train.head()"
   ]
  },
  {
   "cell_type": "code",
   "execution_count": 237,
   "metadata": {},
   "outputs": [
    {
     "name": "stderr",
     "output_type": "stream",
     "text": [
      "C:\\Users\\Sajid Alam\\Anaconda3\\lib\\site-packages\\ipykernel_launcher.py:1: UserWarning:\n",
      "\n",
      "The `nb_epoch` argument in `fit` has been renamed `epochs`.\n",
      "\n"
     ]
    },
    {
     "data": {
      "text/plain": [
       "<keras.callbacks.callbacks.History at 0x263d75ce4e0>"
      ]
     },
     "execution_count": 237,
     "metadata": {},
     "output_type": "execute_result"
    }
   ],
   "source": [
    "ann.fit(train.drop(['Survived'],axis=1),train['Survived'] , nb_epoch=300,verbose= 0)"
   ]
  },
  {
   "cell_type": "code",
   "execution_count": 238,
   "metadata": {},
   "outputs": [],
   "source": [
    "test_prediction = ann.predict(test)\n",
    "test_prediction = [ 1 if y>=0.5 else 0 for y in test_prediction]"
   ]
  },
  {
   "cell_type": "code",
   "execution_count": 239,
   "metadata": {},
   "outputs": [],
   "source": [
    "test_pred = pd.DataFrame(test_prediction, columns= ['Survived'])"
   ]
  },
  {
   "cell_type": "code",
   "execution_count": 240,
   "metadata": {},
   "outputs": [],
   "source": [
    "new_test = pd.concat([test, test_pred], axis=1, join='inner')"
   ]
  },
  {
   "cell_type": "code",
   "execution_count": 241,
   "metadata": {},
   "outputs": [
    {
     "data": {
      "text/html": [
       "<div>\n",
       "<style scoped>\n",
       "    .dataframe tbody tr th:only-of-type {\n",
       "        vertical-align: middle;\n",
       "    }\n",
       "\n",
       "    .dataframe tbody tr th {\n",
       "        vertical-align: top;\n",
       "    }\n",
       "\n",
       "    .dataframe thead th {\n",
       "        text-align: right;\n",
       "    }\n",
       "</style>\n",
       "<table border=\"1\" class=\"dataframe\">\n",
       "  <thead>\n",
       "    <tr style=\"text-align: right;\">\n",
       "      <th></th>\n",
       "      <th>PassengerId</th>\n",
       "      <th>Pclass</th>\n",
       "      <th>Age</th>\n",
       "      <th>SibSp</th>\n",
       "      <th>Parch</th>\n",
       "      <th>Fare</th>\n",
       "      <th>male</th>\n",
       "      <th>Q</th>\n",
       "      <th>S</th>\n",
       "      <th>Survived</th>\n",
       "    </tr>\n",
       "  </thead>\n",
       "  <tbody>\n",
       "    <tr>\n",
       "      <th>0</th>\n",
       "      <td>892</td>\n",
       "      <td>3</td>\n",
       "      <td>34.5</td>\n",
       "      <td>0</td>\n",
       "      <td>0</td>\n",
       "      <td>7.8292</td>\n",
       "      <td>1</td>\n",
       "      <td>1</td>\n",
       "      <td>0</td>\n",
       "      <td>0</td>\n",
       "    </tr>\n",
       "    <tr>\n",
       "      <th>1</th>\n",
       "      <td>893</td>\n",
       "      <td>3</td>\n",
       "      <td>47.0</td>\n",
       "      <td>1</td>\n",
       "      <td>0</td>\n",
       "      <td>7.0000</td>\n",
       "      <td>0</td>\n",
       "      <td>0</td>\n",
       "      <td>1</td>\n",
       "      <td>0</td>\n",
       "    </tr>\n",
       "    <tr>\n",
       "      <th>2</th>\n",
       "      <td>894</td>\n",
       "      <td>2</td>\n",
       "      <td>62.0</td>\n",
       "      <td>0</td>\n",
       "      <td>0</td>\n",
       "      <td>9.6875</td>\n",
       "      <td>1</td>\n",
       "      <td>1</td>\n",
       "      <td>0</td>\n",
       "      <td>0</td>\n",
       "    </tr>\n",
       "    <tr>\n",
       "      <th>3</th>\n",
       "      <td>895</td>\n",
       "      <td>3</td>\n",
       "      <td>27.0</td>\n",
       "      <td>0</td>\n",
       "      <td>0</td>\n",
       "      <td>8.6625</td>\n",
       "      <td>1</td>\n",
       "      <td>0</td>\n",
       "      <td>1</td>\n",
       "      <td>0</td>\n",
       "    </tr>\n",
       "    <tr>\n",
       "      <th>4</th>\n",
       "      <td>896</td>\n",
       "      <td>3</td>\n",
       "      <td>22.0</td>\n",
       "      <td>1</td>\n",
       "      <td>1</td>\n",
       "      <td>12.2875</td>\n",
       "      <td>0</td>\n",
       "      <td>0</td>\n",
       "      <td>1</td>\n",
       "      <td>1</td>\n",
       "    </tr>\n",
       "  </tbody>\n",
       "</table>\n",
       "</div>"
      ],
      "text/plain": [
       "   PassengerId  Pclass   Age  SibSp  Parch     Fare  male  Q  S  Survived\n",
       "0          892       3  34.5      0      0   7.8292     1  1  0         0\n",
       "1          893       3  47.0      1      0   7.0000     0  0  1         0\n",
       "2          894       2  62.0      0      0   9.6875     1  1  0         0\n",
       "3          895       3  27.0      0      0   8.6625     1  0  1         0\n",
       "4          896       3  22.0      1      1  12.2875     0  0  1         1"
      ]
     },
     "execution_count": 241,
     "metadata": {},
     "output_type": "execute_result"
    }
   ],
   "source": [
    "new_test.head()"
   ]
  },
  {
   "cell_type": "code",
   "execution_count": 242,
   "metadata": {},
   "outputs": [],
   "source": [
    "df= new_test[['PassengerId' ,'Survived']]"
   ]
  },
  {
   "cell_type": "code",
   "execution_count": 243,
   "metadata": {},
   "outputs": [
    {
     "data": {
      "text/html": [
       "<div>\n",
       "<style scoped>\n",
       "    .dataframe tbody tr th:only-of-type {\n",
       "        vertical-align: middle;\n",
       "    }\n",
       "\n",
       "    .dataframe tbody tr th {\n",
       "        vertical-align: top;\n",
       "    }\n",
       "\n",
       "    .dataframe thead th {\n",
       "        text-align: right;\n",
       "    }\n",
       "</style>\n",
       "<table border=\"1\" class=\"dataframe\">\n",
       "  <thead>\n",
       "    <tr style=\"text-align: right;\">\n",
       "      <th></th>\n",
       "      <th>PassengerId</th>\n",
       "      <th>Survived</th>\n",
       "    </tr>\n",
       "  </thead>\n",
       "  <tbody>\n",
       "    <tr>\n",
       "      <th>0</th>\n",
       "      <td>892</td>\n",
       "      <td>0</td>\n",
       "    </tr>\n",
       "    <tr>\n",
       "      <th>1</th>\n",
       "      <td>893</td>\n",
       "      <td>0</td>\n",
       "    </tr>\n",
       "    <tr>\n",
       "      <th>2</th>\n",
       "      <td>894</td>\n",
       "      <td>0</td>\n",
       "    </tr>\n",
       "    <tr>\n",
       "      <th>3</th>\n",
       "      <td>895</td>\n",
       "      <td>0</td>\n",
       "    </tr>\n",
       "    <tr>\n",
       "      <th>4</th>\n",
       "      <td>896</td>\n",
       "      <td>1</td>\n",
       "    </tr>\n",
       "  </tbody>\n",
       "</table>\n",
       "</div>"
      ],
      "text/plain": [
       "   PassengerId  Survived\n",
       "0          892         0\n",
       "1          893         0\n",
       "2          894         0\n",
       "3          895         0\n",
       "4          896         1"
      ]
     },
     "execution_count": 243,
     "metadata": {},
     "output_type": "execute_result"
    }
   ],
   "source": [
    "df.head()"
   ]
  },
  {
   "cell_type": "code",
   "execution_count": 244,
   "metadata": {},
   "outputs": [],
   "source": [
    "df.to_csv('predictions.csv' , index=False)"
   ]
  },
  {
   "cell_type": "markdown",
   "metadata": {},
   "source": 
  },
  {
   "cell_type": "code",
   "execution_count": null,
   "metadata": {},
   "outputs": [],
   "source": []
  }
 ],
 "metadata": {
  "kernelspec": {
   "display_name": "Python 3",
   "language": "python",
   "name": "python3"
  },
  "language_info": {
   "codemirror_mode": {
    "name": "ipython",
    "version": 3
   },
   "file_extension": ".py",
   "mimetype": "text/x-python",
   "name": "python",
   "nbconvert_exporter": "python",
   "pygments_lexer": "ipython3",
   "version": "3.7.2"
  }
 },
 "nbformat": 4,
 "nbformat_minor": 2
}
